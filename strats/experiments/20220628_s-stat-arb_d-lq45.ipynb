{
 "cells": [
  {
   "cell_type": "code",
   "execution_count": null,
   "id": "b99a99ad-6a06-42b2-9074-13de47638e59",
   "metadata": {},
   "outputs": [],
   "source": [
    "import pandas as pd\n",
    "pd.options.mode.chained_assignment = None  # default='warn'\n",
    "import pandas_ta as ta\n",
    "import quantstats as qs\n",
    "qs.extend_pandas()\n",
    "\n",
    "import numpy as np\n",
    "import datetime\n",
    "from tqdm import tqdm\n",
    "from matplotlib import pyplot as plt\n",
    "%matplotlib inline\n",
    "import seaborn\n",
    "\n",
    "params = {'figure.facecolor': 'w'}\n",
    "plt.rcParams.update(params)\n",
    "\n",
    "from IPython.display import display"
   ]
  },
  {
   "cell_type": "markdown",
   "id": "4e735d5b-5d02-40c6-961d-07887cf6a250",
   "metadata": {
    "tags": []
   },
   "source": [
    "## Helper Functions"
   ]
  },
  {
   "cell_type": "code",
   "execution_count": null,
   "id": "2c0f8b55-026d-45fa-b573-265f4519e4ec",
   "metadata": {},
   "outputs": [],
   "source": [
    "# Preprocessing Functions\n",
    "def handle_nan(df, method='bfill'):\n",
    "    ## Fill NaN values with the earliest data\n",
    "    if method == 'bfill':\n",
    "        return df.fillna(method='bfill', axis=0)\n",
    "    elif method == 'zerofill':\n",
    "        return df.fillna(0)\n",
    "    elif method == 'drop':\n",
    "        return df.dropna()\n",
    "\n",
    "def extend_price_df(df):\n",
    "    '''\n",
    "    Calculates returns, log_returns, and log_prices to a df with 'price' column\n",
    "    '''\n",
    "    df['log_price'] = np.log(df['price'])\n",
    "    df['return'] = df['price'].pct_change()\n",
    "    df['log_return'] = np.log(1 + df['return'])\n",
    "    \n",
    "    df = handle_nan(df, method='zerofill')\n",
    "    \n",
    "    return df\n",
    "     \n",
    "def gen_combined_price_df(df_dict, dict_keys, nan_handle_method='bfill'):\n",
    "    for i, key in enumerate(dict_keys):\n",
    "        if i == 0:\n",
    "            df_buff = pd.DataFrame(index=df_dict[key].index)\n",
    "        df_buff[key + '_' + 'price'] = df_dict[key]['price']\n",
    "    \n",
    "    # Handle NaN values from combination of multiple tickers\n",
    "    # Assumes that NaN values because \"stock have not existed\" has been handled\n",
    "    df_buff = handle_nan(df_buff, method=nan_handle_method)\n",
    "            \n",
    "    return df_buff\n",
    "\n",
    "# Plotting Functions\n",
    "def tsplot(y, lags=None, figsize=(20, 8), style='bmh', title='Time Series Analysis Plots'):\n",
    "    # source: http://www.blackarbs.com/blog/time-series-analysis-in-python-linear-models-to-garch/11/1/2016#GARCH\n",
    "    \n",
    "    if not isinstance(y, pd.Series):\n",
    "        y = pd.Series(y)\n",
    "    with plt.style.context(style):    \n",
    "        fig = plt.figure(figsize=figsize)\n",
    "        layout = (3, 2)\n",
    "        ts_ax = plt.subplot2grid(layout, (0, 0), colspan=2)\n",
    "        acf_ax = plt.subplot2grid(layout, (1, 0))\n",
    "        pacf_ax = plt.subplot2grid(layout, (1, 1))\n",
    "        qq_ax = plt.subplot2grid(layout, (2, 0))\n",
    "        pp_ax = plt.subplot2grid(layout, (2, 1))\n",
    "        \n",
    "        y.plot(ax=ts_ax)\n",
    "        ts_ax.set_title(title)\n",
    "        smt.graphics.plot_acf(y, lags=lags, ax=acf_ax, alpha=0.05, zero=False, auto_ylims=True)\n",
    "        smt.graphics.plot_pacf(y, lags=lags, ax=pacf_ax, alpha=0.05, zero=False, auto_ylims=True)\n",
    "        sm.qqplot(y, line='s', ax=qq_ax)\n",
    "        qq_ax.set_title('QQ Plot')        \n",
    "        scs.probplot(y, sparams=(y.mean(), y.std()), plot=pp_ax)\n",
    "\n",
    "        plt.tight_layout()\n",
    "    return "
   ]
  },
  {
   "cell_type": "markdown",
   "id": "8f26c94c-daa4-480e-a691-3a7ed202c375",
   "metadata": {
    "tags": []
   },
   "source": [
    "## Data Preparation"
   ]
  },
  {
   "cell_type": "markdown",
   "id": "e7dccf9d-f766-4f35-aed2-d6ac7f1076df",
   "metadata": {
    "tags": []
   },
   "source": [
    "### Data Loading"
   ]
  },
  {
   "cell_type": "code",
   "execution_count": null,
   "id": "fbedc232-0984-4c62-a1eb-2ef519a81f93",
   "metadata": {},
   "outputs": [],
   "source": [
    "# Data Directory\n",
    "data_dir = '/workspace/202205_idx-trading/_data/'\n",
    "lq45_dir = '/workspace/202205_idx-trading/_data/20220525_lq45/'\n",
    "lq45_index_file = data_dir + '20220525_lq45_index.csv'\n",
    "lq45_list = '20220525_lq45-list.txt'\n",
    "\n",
    "# Prepare Stock Tickers\n",
    "with open(data_dir + lq45_list, \"r\") as f:\n",
    "    lq45_tickers = f.read().split('\\n')\n",
    "\n",
    "## Prepare active tickers for international codes\n",
    "active_tickers = [f + '.JK' for f in lq45_tickers]\n",
    "active_tickers.append('LQ45')"
   ]
  },
  {
   "cell_type": "code",
   "execution_count": 68,
   "id": "3c125390-38a2-4a75-b392-83f47a47bee0",
   "metadata": {},
   "outputs": [
    {
     "name": "stderr",
     "output_type": "stream",
     "text": [
      "100%|█████████████████████████████████████████████████████| 46/46 [00:01<00:00, 33.30it/s]\n"
     ]
    }
   ],
   "source": [
    "# Prepare Time Series Data\n",
    "# TODO - Returns calculation need to be done after fill\n",
    "nan_handle_method = 'bfill'\n",
    "\n",
    "df_dict = {}\n",
    "for ticker in tqdm(active_tickers):\n",
    "    if ticker == 'LQ45':\n",
    "        df_dict[ticker] = pd.read_csv(lq45_index_file)\n",
    "    else:\n",
    "        df_dict[ticker] = pd.read_csv(lq45_dir + ticker + '.csv')\n",
    "    \n",
    "    ## Take Only Date and Adjusted Close\n",
    "    df_dict[ticker] = df_dict[ticker][['Date', 'Adj Close']]\n",
    "    df_dict['Date'] = pd.to_datetime(df_dict[ticker]['Date'])\n",
    "    df_dict[ticker].set_index(pd.DatetimeIndex(df_dict[ticker]['Date']), inplace=True)\n",
    "    \n",
    "    df_dict[ticker].drop('Date', axis=1, inplace=True)\n",
    "    \n",
    "    ## Convert Adj Close to price\n",
    "    df_dict[ticker]['price'] = df_dict[ticker]['Adj Close']\n",
    "    df_dict[ticker].drop('Adj Close', axis=1, inplace=True)"
   ]
  },
  {
   "cell_type": "code",
   "execution_count": 69,
   "id": "0a521abf-43a8-4678-b1e6-6dc2221725d1",
   "metadata": {},
   "outputs": [
    {
     "name": "stderr",
     "output_type": "stream",
     "text": [
      "100%|█████████████████████████████████████████████████████| 46/46 [00:00<00:00, 64.44it/s]\n"
     ]
    }
   ],
   "source": [
    "# Separate Into In Sample and Out Sample\n",
    "date_start = '2009-01-01'\n",
    "date_breakpoint = '2019-01-01'\n",
    "\n",
    "nan_cnt_threshold = 252*2\n",
    "\n",
    "in_df = {}\n",
    "out_df = {}\n",
    "rmv_tickers = []\n",
    "for ticker in tqdm(active_tickers):\n",
    "    ## Take In Sample and Out Sample Data\n",
    "    in_df[ticker] = df_dict[ticker][(df_dict[ticker].index >= date_start) & \n",
    "                                                (df_dict[ticker].index < date_breakpoint)]\n",
    "    out_df[ticker] = df_dict[ticker][df_dict[ticker].index >= date_breakpoint]\n",
    "    \n",
    "    ## Check if there are too many NaN values\n",
    "    if in_df[ticker]['price'].isna().sum() > nan_cnt_threshold:\n",
    "        rmv_tickers.append(ticker)\n",
    "        continue\n",
    "    \n",
    "    ## Handle NaN Values\n",
    "    in_df[ticker] = handle_nan(in_df[ticker], method=nan_handle_method)\n",
    "    out_df[ticker] = handle_nan(out_df[ticker], method=nan_handle_method)\n",
    "    \n",
    "    ## Extend price to other values\n",
    "    in_df[ticker] = extend_price_df(in_df[ticker])\n",
    "    out_df[ticker] = extend_price_df(out_df[ticker])\n",
    "\n",
    "# Remove tickers that only have small amounts of data\n",
    "active_tickers = [t for t in active_tickers if t not in rmv_tickers]"
   ]
  },
  {
   "cell_type": "markdown",
   "id": "f3bcddc3-3ee9-40d1-a0a0-ab5b6fb6fbc6",
   "metadata": {
    "tags": []
   },
   "source": [
    "## Data Exploration"
   ]
  },
  {
   "cell_type": "markdown",
   "id": "109e3c6c-f514-4d09-b4dd-0c11c9c56bf7",
   "metadata": {},
   "source": [
    "### Engle-Granger Cointegration Test\n",
    "Test is done on in-sample data only, so out of sample data is purely for testing.\n",
    "We will revisit cointegration testing on OOS data later on.\n",
    "\n",
    "Steps:\n",
    "- Test using existing engle-granger package. Also calcualte Hurst Exponent.\n",
    "- Do a separate OLS to get beta of (potentially) cointegrating pair.\n",
    "- Visualize Mean Reversion to verify.\n",
    "- Fit Ornstein-Uhlenbeck process to generate lambda (and subsequently, half life)"
   ]
  },
  {
   "cell_type": "code",
   "execution_count": 63,
   "id": "a88cbcb8-cd39-4042-b25d-8bee34cc9ea1",
   "metadata": {},
   "outputs": [],
   "source": [
    "from statsmodels.tsa.stattools import coint\n",
    "from statsmodels.tsa.stattools import adfuller\n",
    "\n",
    "def find_coint_pairs(df_dict, tickers, form='normal', form_type='price', alpha=0.05):\n",
    "    '''\n",
    "    Finds cointegrated pairs from df_dict serial data, based on given tickers.\n",
    "    '''\n",
    "    n = len(tickers)\n",
    "    pairs = []\n",
    "    pvalues = []\n",
    "    \n",
    "    for i in tqdm(range(0, n)):\n",
    "        for j in range(i+1, n):\n",
    "            if(form == 'normal'):\n",
    "                S1 = df_dict[tickers[i]][form_type]\n",
    "                S2 = df_dict[tickers[j]][form_type]\n",
    "               \n",
    "                result = coint(S1, S2)\n",
    "                pvalue = result[1]\n",
    "                \n",
    "            elif(form == 'ratio'):\n",
    "                ratio = df_dict[tickers[i]][form_type] / df_dict[tickers[j]][form_type]\n",
    "               \n",
    "                result = adfuller(ratio)\n",
    "                pvalue = result[1]\n",
    "                \n",
    "            if pvalue < alpha:\n",
    "                pairs.append([tickers[i], tickers[j]])\n",
    "                pvalues.append(pvalue)\n",
    "                      \n",
    "    return pairs, pvalues"
   ]
  },
  {
   "cell_type": "code",
   "execution_count": 64,
   "id": "65919ce7-cfd3-4034-95bd-afe61116ab1e",
   "metadata": {},
   "outputs": [],
   "source": [
    "# Prepare LQ45 Stock Indexes of the Same Group\n",
    "stock_groups = {\n",
    "    \"energy_and_mining\": ['BRPT.JK', 'HRUM.JK', 'MEDC.JK', 'PGAS.JK', 'TPIA.JK', 'ADRO.JK', 'ITMG.JK', 'PTBA.JK'],\n",
    "    \"precious_rocks\": ['INCO.JK', 'MDKA.JK', 'ANTM.JK'],\n",
    "    \"retail\": ['AMRT.JK', 'UNVR.JK', 'ERAA.JK', 'ASII.JK'],\n",
    "    \"food_agri\": ['CPIN.JK', 'JPFA.JK', 'ICBP.JK', 'INDF.JK'],\n",
    "    \"paper\": ['TKIM.JK', 'INKP.JK'],\n",
    "    \"finance\": ['BBCA.JK', 'BBNI.JK', 'BBRI.JK', 'BBTN.JK', 'BMRI.JK', 'BFIN.JK'],\n",
    "    \"media\": ['EMTK.JK', 'MNCN.JK'],\n",
    "    \"telcom\": ['EXCL.JK', 'TLKM.JK', 'TBIG.JK', 'TOWR.JK'],\n",
    "    \"tobacco\": ['GGRM.JK', 'HMSP.JK'],\n",
    "    \"construction\": ['INTP.JK', 'PTPP.JK', 'SMGR.JK', 'UNTR.JK', 'WIKA.JK', 'WSKT.JK'],\n",
    "    \"medical\": ['KLBF.JK', 'MIKA.JK']\n",
    "}"
   ]
  },
  {
   "cell_type": "code",
   "execution_count": 65,
   "id": "7e4eded1-91d7-4bdb-a2e1-94a5da55cc14",
   "metadata": {},
   "outputs": [
    {
     "name": "stderr",
     "output_type": "stream",
     "text": [
      "  0%|                                                               | 0/9 [00:00<?, ?it/s]"
     ]
    },
    {
     "name": "stdout",
     "output_type": "stream",
     "text": [
      "BRPT.JKHRUM.JK\n"
     ]
    },
    {
     "name": "stderr",
     "output_type": "stream",
     "text": [
      "\n"
     ]
    },
    {
     "ename": "MissingDataError",
     "evalue": "exog contains inf or nans",
     "output_type": "error",
     "traceback": [
      "\u001b[0;31m---------------------------------------------------------------------------\u001b[0m",
      "\u001b[0;31mMissingDataError\u001b[0m                          Traceback (most recent call last)",
      "\u001b[0;32m/tmp/ipykernel_189/879240238.py\u001b[0m in \u001b[0;36m<module>\u001b[0;34m\u001b[0m\n\u001b[1;32m      7\u001b[0m     \u001b[0mtickers\u001b[0m \u001b[0;34m=\u001b[0m \u001b[0mval\u001b[0m\u001b[0;34m\u001b[0m\u001b[0;34m\u001b[0m\u001b[0m\n\u001b[1;32m      8\u001b[0m     \u001b[0mtickers\u001b[0m\u001b[0;34m.\u001b[0m\u001b[0mappend\u001b[0m\u001b[0;34m(\u001b[0m\u001b[0;34m'LQ45'\u001b[0m\u001b[0;34m)\u001b[0m\u001b[0;34m\u001b[0m\u001b[0;34m\u001b[0m\u001b[0m\n\u001b[0;32m----> 9\u001b[0;31m     \u001b[0mpairs\u001b[0m\u001b[0;34m,\u001b[0m \u001b[0mpvalues\u001b[0m \u001b[0;34m=\u001b[0m \u001b[0mfind_coint_pairs\u001b[0m\u001b[0;34m(\u001b[0m\u001b[0min_df\u001b[0m\u001b[0;34m,\u001b[0m \u001b[0mtickers\u001b[0m\u001b[0;34m,\u001b[0m \u001b[0mform\u001b[0m\u001b[0;34m=\u001b[0m\u001b[0;34m'normal'\u001b[0m\u001b[0;34m,\u001b[0m \u001b[0mform_type\u001b[0m\u001b[0;34m=\u001b[0m\u001b[0;34m'price'\u001b[0m\u001b[0;34m,\u001b[0m \u001b[0malpha\u001b[0m\u001b[0;34m=\u001b[0m\u001b[0;36m0.02\u001b[0m\u001b[0;34m)\u001b[0m\u001b[0;34m\u001b[0m\u001b[0;34m\u001b[0m\u001b[0m\n\u001b[0m\u001b[1;32m     10\u001b[0m     \u001b[0;32mfor\u001b[0m \u001b[0mpair\u001b[0m\u001b[0;34m,\u001b[0m \u001b[0mpvalue\u001b[0m \u001b[0;32min\u001b[0m \u001b[0mzip\u001b[0m\u001b[0;34m(\u001b[0m\u001b[0mpairs\u001b[0m\u001b[0;34m,\u001b[0m \u001b[0mpvalues\u001b[0m\u001b[0;34m)\u001b[0m\u001b[0;34m:\u001b[0m\u001b[0;34m\u001b[0m\u001b[0;34m\u001b[0m\u001b[0m\n\u001b[1;32m     11\u001b[0m         pair_l.append({\n",
      "\u001b[0;32m/tmp/ipykernel_189/3741358038.py\u001b[0m in \u001b[0;36mfind_coint_pairs\u001b[0;34m(df_dict, tickers, form, form_type, alpha)\u001b[0m\n\u001b[1;32m     18\u001b[0m                 \u001b[0mprint\u001b[0m\u001b[0;34m(\u001b[0m\u001b[0mtickers\u001b[0m\u001b[0;34m[\u001b[0m\u001b[0mi\u001b[0m\u001b[0;34m]\u001b[0m \u001b[0;34m+\u001b[0m \u001b[0mtickers\u001b[0m\u001b[0;34m[\u001b[0m\u001b[0mj\u001b[0m\u001b[0;34m]\u001b[0m\u001b[0;34m)\u001b[0m\u001b[0;34m\u001b[0m\u001b[0;34m\u001b[0m\u001b[0m\n\u001b[1;32m     19\u001b[0m \u001b[0;34m\u001b[0m\u001b[0m\n\u001b[0;32m---> 20\u001b[0;31m                 \u001b[0mresult\u001b[0m \u001b[0;34m=\u001b[0m \u001b[0mcoint\u001b[0m\u001b[0;34m(\u001b[0m\u001b[0mS1\u001b[0m\u001b[0;34m,\u001b[0m \u001b[0mS2\u001b[0m\u001b[0;34m)\u001b[0m\u001b[0;34m\u001b[0m\u001b[0;34m\u001b[0m\u001b[0m\n\u001b[0m\u001b[1;32m     21\u001b[0m                 \u001b[0mpvalue\u001b[0m \u001b[0;34m=\u001b[0m \u001b[0mresult\u001b[0m\u001b[0;34m[\u001b[0m\u001b[0;36m1\u001b[0m\u001b[0;34m]\u001b[0m\u001b[0;34m\u001b[0m\u001b[0;34m\u001b[0m\u001b[0m\n\u001b[1;32m     22\u001b[0m \u001b[0;34m\u001b[0m\u001b[0m\n",
      "\u001b[0;32m/usr/local/lib/python3.7/site-packages/statsmodels/tsa/stattools.py\u001b[0m in \u001b[0;36mcoint\u001b[0;34m(y0, y1, trend, method, maxlag, autolag, return_results)\u001b[0m\n\u001b[1;32m   1712\u001b[0m         \u001b[0mxx\u001b[0m \u001b[0;34m=\u001b[0m \u001b[0madd_trend\u001b[0m\u001b[0;34m(\u001b[0m\u001b[0my1\u001b[0m\u001b[0;34m,\u001b[0m \u001b[0mtrend\u001b[0m\u001b[0;34m=\u001b[0m\u001b[0mtrend\u001b[0m\u001b[0;34m,\u001b[0m \u001b[0mprepend\u001b[0m\u001b[0;34m=\u001b[0m\u001b[0;32mFalse\u001b[0m\u001b[0;34m)\u001b[0m\u001b[0;34m\u001b[0m\u001b[0;34m\u001b[0m\u001b[0m\n\u001b[1;32m   1713\u001b[0m \u001b[0;34m\u001b[0m\u001b[0m\n\u001b[0;32m-> 1714\u001b[0;31m     \u001b[0mres_co\u001b[0m \u001b[0;34m=\u001b[0m \u001b[0mOLS\u001b[0m\u001b[0;34m(\u001b[0m\u001b[0my0\u001b[0m\u001b[0;34m,\u001b[0m \u001b[0mxx\u001b[0m\u001b[0;34m)\u001b[0m\u001b[0;34m.\u001b[0m\u001b[0mfit\u001b[0m\u001b[0;34m(\u001b[0m\u001b[0;34m)\u001b[0m\u001b[0;34m\u001b[0m\u001b[0;34m\u001b[0m\u001b[0m\n\u001b[0m\u001b[1;32m   1715\u001b[0m \u001b[0;34m\u001b[0m\u001b[0m\n\u001b[1;32m   1716\u001b[0m     \u001b[0;32mif\u001b[0m \u001b[0mres_co\u001b[0m\u001b[0;34m.\u001b[0m\u001b[0mrsquared\u001b[0m \u001b[0;34m<\u001b[0m \u001b[0;36m1\u001b[0m \u001b[0;34m-\u001b[0m \u001b[0;36m100\u001b[0m \u001b[0;34m*\u001b[0m \u001b[0mSQRTEPS\u001b[0m\u001b[0;34m:\u001b[0m\u001b[0;34m\u001b[0m\u001b[0;34m\u001b[0m\u001b[0m\n",
      "\u001b[0;32m/usr/local/lib/python3.7/site-packages/statsmodels/regression/linear_model.py\u001b[0m in \u001b[0;36m__init__\u001b[0;34m(self, endog, exog, missing, hasconst, **kwargs)\u001b[0m\n\u001b[1;32m    889\u001b[0m             \u001b[0mwarnings\u001b[0m\u001b[0;34m.\u001b[0m\u001b[0mwarn\u001b[0m\u001b[0;34m(\u001b[0m\u001b[0mmsg\u001b[0m\u001b[0;34m,\u001b[0m \u001b[0mValueWarning\u001b[0m\u001b[0;34m)\u001b[0m\u001b[0;34m\u001b[0m\u001b[0;34m\u001b[0m\u001b[0m\n\u001b[1;32m    890\u001b[0m         super(OLS, self).__init__(endog, exog, missing=missing,\n\u001b[0;32m--> 891\u001b[0;31m                                   hasconst=hasconst, **kwargs)\n\u001b[0m\u001b[1;32m    892\u001b[0m         \u001b[0;32mif\u001b[0m \u001b[0;34m\"weights\"\u001b[0m \u001b[0;32min\u001b[0m \u001b[0mself\u001b[0m\u001b[0;34m.\u001b[0m\u001b[0m_init_keys\u001b[0m\u001b[0;34m:\u001b[0m\u001b[0;34m\u001b[0m\u001b[0;34m\u001b[0m\u001b[0m\n\u001b[1;32m    893\u001b[0m             \u001b[0mself\u001b[0m\u001b[0;34m.\u001b[0m\u001b[0m_init_keys\u001b[0m\u001b[0;34m.\u001b[0m\u001b[0mremove\u001b[0m\u001b[0;34m(\u001b[0m\u001b[0;34m\"weights\"\u001b[0m\u001b[0;34m)\u001b[0m\u001b[0;34m\u001b[0m\u001b[0;34m\u001b[0m\u001b[0m\n",
      "\u001b[0;32m/usr/local/lib/python3.7/site-packages/statsmodels/regression/linear_model.py\u001b[0m in \u001b[0;36m__init__\u001b[0;34m(self, endog, exog, weights, missing, hasconst, **kwargs)\u001b[0m\n\u001b[1;32m    716\u001b[0m             \u001b[0mweights\u001b[0m \u001b[0;34m=\u001b[0m \u001b[0mweights\u001b[0m\u001b[0;34m.\u001b[0m\u001b[0msqueeze\u001b[0m\u001b[0;34m(\u001b[0m\u001b[0;34m)\u001b[0m\u001b[0;34m\u001b[0m\u001b[0;34m\u001b[0m\u001b[0m\n\u001b[1;32m    717\u001b[0m         super(WLS, self).__init__(endog, exog, missing=missing,\n\u001b[0;32m--> 718\u001b[0;31m                                   weights=weights, hasconst=hasconst, **kwargs)\n\u001b[0m\u001b[1;32m    719\u001b[0m         \u001b[0mnobs\u001b[0m \u001b[0;34m=\u001b[0m \u001b[0mself\u001b[0m\u001b[0;34m.\u001b[0m\u001b[0mexog\u001b[0m\u001b[0;34m.\u001b[0m\u001b[0mshape\u001b[0m\u001b[0;34m[\u001b[0m\u001b[0;36m0\u001b[0m\u001b[0;34m]\u001b[0m\u001b[0;34m\u001b[0m\u001b[0;34m\u001b[0m\u001b[0m\n\u001b[1;32m    720\u001b[0m         \u001b[0mweights\u001b[0m \u001b[0;34m=\u001b[0m \u001b[0mself\u001b[0m\u001b[0;34m.\u001b[0m\u001b[0mweights\u001b[0m\u001b[0;34m\u001b[0m\u001b[0;34m\u001b[0m\u001b[0m\n",
      "\u001b[0;32m/usr/local/lib/python3.7/site-packages/statsmodels/regression/linear_model.py\u001b[0m in \u001b[0;36m__init__\u001b[0;34m(self, endog, exog, **kwargs)\u001b[0m\n\u001b[1;32m    189\u001b[0m     \"\"\"\n\u001b[1;32m    190\u001b[0m     \u001b[0;32mdef\u001b[0m \u001b[0m__init__\u001b[0m\u001b[0;34m(\u001b[0m\u001b[0mself\u001b[0m\u001b[0;34m,\u001b[0m \u001b[0mendog\u001b[0m\u001b[0;34m,\u001b[0m \u001b[0mexog\u001b[0m\u001b[0;34m,\u001b[0m \u001b[0;34m**\u001b[0m\u001b[0mkwargs\u001b[0m\u001b[0;34m)\u001b[0m\u001b[0;34m:\u001b[0m\u001b[0;34m\u001b[0m\u001b[0;34m\u001b[0m\u001b[0m\n\u001b[0;32m--> 191\u001b[0;31m         \u001b[0msuper\u001b[0m\u001b[0;34m(\u001b[0m\u001b[0mRegressionModel\u001b[0m\u001b[0;34m,\u001b[0m \u001b[0mself\u001b[0m\u001b[0;34m)\u001b[0m\u001b[0;34m.\u001b[0m\u001b[0m__init__\u001b[0m\u001b[0;34m(\u001b[0m\u001b[0mendog\u001b[0m\u001b[0;34m,\u001b[0m \u001b[0mexog\u001b[0m\u001b[0;34m,\u001b[0m \u001b[0;34m**\u001b[0m\u001b[0mkwargs\u001b[0m\u001b[0;34m)\u001b[0m\u001b[0;34m\u001b[0m\u001b[0;34m\u001b[0m\u001b[0m\n\u001b[0m\u001b[1;32m    192\u001b[0m         \u001b[0mself\u001b[0m\u001b[0;34m.\u001b[0m\u001b[0m_data_attr\u001b[0m\u001b[0;34m.\u001b[0m\u001b[0mextend\u001b[0m\u001b[0;34m(\u001b[0m\u001b[0;34m[\u001b[0m\u001b[0;34m'pinv_wexog'\u001b[0m\u001b[0;34m,\u001b[0m \u001b[0;34m'wendog'\u001b[0m\u001b[0;34m,\u001b[0m \u001b[0;34m'wexog'\u001b[0m\u001b[0;34m,\u001b[0m \u001b[0;34m'weights'\u001b[0m\u001b[0;34m]\u001b[0m\u001b[0;34m)\u001b[0m\u001b[0;34m\u001b[0m\u001b[0;34m\u001b[0m\u001b[0m\n\u001b[1;32m    193\u001b[0m \u001b[0;34m\u001b[0m\u001b[0m\n",
      "\u001b[0;32m/usr/local/lib/python3.7/site-packages/statsmodels/base/model.py\u001b[0m in \u001b[0;36m__init__\u001b[0;34m(self, endog, exog, **kwargs)\u001b[0m\n\u001b[1;32m    265\u001b[0m \u001b[0;34m\u001b[0m\u001b[0m\n\u001b[1;32m    266\u001b[0m     \u001b[0;32mdef\u001b[0m \u001b[0m__init__\u001b[0m\u001b[0;34m(\u001b[0m\u001b[0mself\u001b[0m\u001b[0;34m,\u001b[0m \u001b[0mendog\u001b[0m\u001b[0;34m,\u001b[0m \u001b[0mexog\u001b[0m\u001b[0;34m=\u001b[0m\u001b[0;32mNone\u001b[0m\u001b[0;34m,\u001b[0m \u001b[0;34m**\u001b[0m\u001b[0mkwargs\u001b[0m\u001b[0;34m)\u001b[0m\u001b[0;34m:\u001b[0m\u001b[0;34m\u001b[0m\u001b[0;34m\u001b[0m\u001b[0m\n\u001b[0;32m--> 267\u001b[0;31m         \u001b[0msuper\u001b[0m\u001b[0;34m(\u001b[0m\u001b[0;34m)\u001b[0m\u001b[0;34m.\u001b[0m\u001b[0m__init__\u001b[0m\u001b[0;34m(\u001b[0m\u001b[0mendog\u001b[0m\u001b[0;34m,\u001b[0m \u001b[0mexog\u001b[0m\u001b[0;34m,\u001b[0m \u001b[0;34m**\u001b[0m\u001b[0mkwargs\u001b[0m\u001b[0;34m)\u001b[0m\u001b[0;34m\u001b[0m\u001b[0;34m\u001b[0m\u001b[0m\n\u001b[0m\u001b[1;32m    268\u001b[0m         \u001b[0mself\u001b[0m\u001b[0;34m.\u001b[0m\u001b[0minitialize\u001b[0m\u001b[0;34m(\u001b[0m\u001b[0;34m)\u001b[0m\u001b[0;34m\u001b[0m\u001b[0;34m\u001b[0m\u001b[0m\n\u001b[1;32m    269\u001b[0m \u001b[0;34m\u001b[0m\u001b[0m\n",
      "\u001b[0;32m/usr/local/lib/python3.7/site-packages/statsmodels/base/model.py\u001b[0m in \u001b[0;36m__init__\u001b[0;34m(self, endog, exog, **kwargs)\u001b[0m\n\u001b[1;32m     91\u001b[0m         \u001b[0mhasconst\u001b[0m \u001b[0;34m=\u001b[0m \u001b[0mkwargs\u001b[0m\u001b[0;34m.\u001b[0m\u001b[0mpop\u001b[0m\u001b[0;34m(\u001b[0m\u001b[0;34m'hasconst'\u001b[0m\u001b[0;34m,\u001b[0m \u001b[0;32mNone\u001b[0m\u001b[0;34m)\u001b[0m\u001b[0;34m\u001b[0m\u001b[0;34m\u001b[0m\u001b[0m\n\u001b[1;32m     92\u001b[0m         self.data = self._handle_data(endog, exog, missing, hasconst,\n\u001b[0;32m---> 93\u001b[0;31m                                       **kwargs)\n\u001b[0m\u001b[1;32m     94\u001b[0m         \u001b[0mself\u001b[0m\u001b[0;34m.\u001b[0m\u001b[0mk_constant\u001b[0m \u001b[0;34m=\u001b[0m \u001b[0mself\u001b[0m\u001b[0;34m.\u001b[0m\u001b[0mdata\u001b[0m\u001b[0;34m.\u001b[0m\u001b[0mk_constant\u001b[0m\u001b[0;34m\u001b[0m\u001b[0;34m\u001b[0m\u001b[0m\n\u001b[1;32m     95\u001b[0m         \u001b[0mself\u001b[0m\u001b[0;34m.\u001b[0m\u001b[0mexog\u001b[0m \u001b[0;34m=\u001b[0m \u001b[0mself\u001b[0m\u001b[0;34m.\u001b[0m\u001b[0mdata\u001b[0m\u001b[0;34m.\u001b[0m\u001b[0mexog\u001b[0m\u001b[0;34m\u001b[0m\u001b[0;34m\u001b[0m\u001b[0m\n",
      "\u001b[0;32m/usr/local/lib/python3.7/site-packages/statsmodels/base/model.py\u001b[0m in \u001b[0;36m_handle_data\u001b[0;34m(self, endog, exog, missing, hasconst, **kwargs)\u001b[0m\n\u001b[1;32m    130\u001b[0m \u001b[0;34m\u001b[0m\u001b[0m\n\u001b[1;32m    131\u001b[0m     \u001b[0;32mdef\u001b[0m \u001b[0m_handle_data\u001b[0m\u001b[0;34m(\u001b[0m\u001b[0mself\u001b[0m\u001b[0;34m,\u001b[0m \u001b[0mendog\u001b[0m\u001b[0;34m,\u001b[0m \u001b[0mexog\u001b[0m\u001b[0;34m,\u001b[0m \u001b[0mmissing\u001b[0m\u001b[0;34m,\u001b[0m \u001b[0mhasconst\u001b[0m\u001b[0;34m,\u001b[0m \u001b[0;34m**\u001b[0m\u001b[0mkwargs\u001b[0m\u001b[0;34m)\u001b[0m\u001b[0;34m:\u001b[0m\u001b[0;34m\u001b[0m\u001b[0;34m\u001b[0m\u001b[0m\n\u001b[0;32m--> 132\u001b[0;31m         \u001b[0mdata\u001b[0m \u001b[0;34m=\u001b[0m \u001b[0mhandle_data\u001b[0m\u001b[0;34m(\u001b[0m\u001b[0mendog\u001b[0m\u001b[0;34m,\u001b[0m \u001b[0mexog\u001b[0m\u001b[0;34m,\u001b[0m \u001b[0mmissing\u001b[0m\u001b[0;34m,\u001b[0m \u001b[0mhasconst\u001b[0m\u001b[0;34m,\u001b[0m \u001b[0;34m**\u001b[0m\u001b[0mkwargs\u001b[0m\u001b[0;34m)\u001b[0m\u001b[0;34m\u001b[0m\u001b[0;34m\u001b[0m\u001b[0m\n\u001b[0m\u001b[1;32m    133\u001b[0m         \u001b[0;31m# kwargs arrays could have changed, easier to just attach here\u001b[0m\u001b[0;34m\u001b[0m\u001b[0;34m\u001b[0m\u001b[0;34m\u001b[0m\u001b[0m\n\u001b[1;32m    134\u001b[0m         \u001b[0;32mfor\u001b[0m \u001b[0mkey\u001b[0m \u001b[0;32min\u001b[0m \u001b[0mkwargs\u001b[0m\u001b[0;34m:\u001b[0m\u001b[0;34m\u001b[0m\u001b[0;34m\u001b[0m\u001b[0m\n",
      "\u001b[0;32m/usr/local/lib/python3.7/site-packages/statsmodels/base/data.py\u001b[0m in \u001b[0;36mhandle_data\u001b[0;34m(endog, exog, missing, hasconst, **kwargs)\u001b[0m\n\u001b[1;32m    672\u001b[0m     \u001b[0mklass\u001b[0m \u001b[0;34m=\u001b[0m \u001b[0mhandle_data_class_factory\u001b[0m\u001b[0;34m(\u001b[0m\u001b[0mendog\u001b[0m\u001b[0;34m,\u001b[0m \u001b[0mexog\u001b[0m\u001b[0;34m)\u001b[0m\u001b[0;34m\u001b[0m\u001b[0;34m\u001b[0m\u001b[0m\n\u001b[1;32m    673\u001b[0m     return klass(endog, exog=exog, missing=missing, hasconst=hasconst,\n\u001b[0;32m--> 674\u001b[0;31m                  **kwargs)\n\u001b[0m",
      "\u001b[0;32m/usr/local/lib/python3.7/site-packages/statsmodels/base/data.py\u001b[0m in \u001b[0;36m__init__\u001b[0;34m(self, endog, exog, missing, hasconst, **kwargs)\u001b[0m\n\u001b[1;32m     84\u001b[0m         \u001b[0mself\u001b[0m\u001b[0;34m.\u001b[0m\u001b[0mconst_idx\u001b[0m \u001b[0;34m=\u001b[0m \u001b[0;32mNone\u001b[0m\u001b[0;34m\u001b[0m\u001b[0;34m\u001b[0m\u001b[0m\n\u001b[1;32m     85\u001b[0m         \u001b[0mself\u001b[0m\u001b[0;34m.\u001b[0m\u001b[0mk_constant\u001b[0m \u001b[0;34m=\u001b[0m \u001b[0;36m0\u001b[0m\u001b[0;34m\u001b[0m\u001b[0;34m\u001b[0m\u001b[0m\n\u001b[0;32m---> 86\u001b[0;31m         \u001b[0mself\u001b[0m\u001b[0;34m.\u001b[0m\u001b[0m_handle_constant\u001b[0m\u001b[0;34m(\u001b[0m\u001b[0mhasconst\u001b[0m\u001b[0;34m)\u001b[0m\u001b[0;34m\u001b[0m\u001b[0;34m\u001b[0m\u001b[0m\n\u001b[0m\u001b[1;32m     87\u001b[0m         \u001b[0mself\u001b[0m\u001b[0;34m.\u001b[0m\u001b[0m_check_integrity\u001b[0m\u001b[0;34m(\u001b[0m\u001b[0;34m)\u001b[0m\u001b[0;34m\u001b[0m\u001b[0;34m\u001b[0m\u001b[0m\n\u001b[1;32m     88\u001b[0m         \u001b[0mself\u001b[0m\u001b[0;34m.\u001b[0m\u001b[0m_cache\u001b[0m \u001b[0;34m=\u001b[0m \u001b[0;34m{\u001b[0m\u001b[0;34m}\u001b[0m\u001b[0;34m\u001b[0m\u001b[0;34m\u001b[0m\u001b[0m\n",
      "\u001b[0;32m/usr/local/lib/python3.7/site-packages/statsmodels/base/data.py\u001b[0m in \u001b[0;36m_handle_constant\u001b[0;34m(self, hasconst)\u001b[0m\n\u001b[1;32m    130\u001b[0m             \u001b[0mexog_max\u001b[0m \u001b[0;34m=\u001b[0m \u001b[0mnp\u001b[0m\u001b[0;34m.\u001b[0m\u001b[0mmax\u001b[0m\u001b[0;34m(\u001b[0m\u001b[0mself\u001b[0m\u001b[0;34m.\u001b[0m\u001b[0mexog\u001b[0m\u001b[0;34m,\u001b[0m \u001b[0maxis\u001b[0m\u001b[0;34m=\u001b[0m\u001b[0;36m0\u001b[0m\u001b[0;34m)\u001b[0m\u001b[0;34m\u001b[0m\u001b[0;34m\u001b[0m\u001b[0m\n\u001b[1;32m    131\u001b[0m             \u001b[0;32mif\u001b[0m \u001b[0;32mnot\u001b[0m \u001b[0mnp\u001b[0m\u001b[0;34m.\u001b[0m\u001b[0misfinite\u001b[0m\u001b[0;34m(\u001b[0m\u001b[0mexog_max\u001b[0m\u001b[0;34m)\u001b[0m\u001b[0;34m.\u001b[0m\u001b[0mall\u001b[0m\u001b[0;34m(\u001b[0m\u001b[0;34m)\u001b[0m\u001b[0;34m:\u001b[0m\u001b[0;34m\u001b[0m\u001b[0;34m\u001b[0m\u001b[0m\n\u001b[0;32m--> 132\u001b[0;31m                 \u001b[0;32mraise\u001b[0m \u001b[0mMissingDataError\u001b[0m\u001b[0;34m(\u001b[0m\u001b[0;34m'exog contains inf or nans'\u001b[0m\u001b[0;34m)\u001b[0m\u001b[0;34m\u001b[0m\u001b[0;34m\u001b[0m\u001b[0m\n\u001b[0m\u001b[1;32m    133\u001b[0m             \u001b[0mexog_min\u001b[0m \u001b[0;34m=\u001b[0m \u001b[0mnp\u001b[0m\u001b[0;34m.\u001b[0m\u001b[0mmin\u001b[0m\u001b[0;34m(\u001b[0m\u001b[0mself\u001b[0m\u001b[0;34m.\u001b[0m\u001b[0mexog\u001b[0m\u001b[0;34m,\u001b[0m \u001b[0maxis\u001b[0m\u001b[0;34m=\u001b[0m\u001b[0;36m0\u001b[0m\u001b[0;34m)\u001b[0m\u001b[0;34m\u001b[0m\u001b[0;34m\u001b[0m\u001b[0m\n\u001b[1;32m    134\u001b[0m             \u001b[0mconst_idx\u001b[0m \u001b[0;34m=\u001b[0m \u001b[0mnp\u001b[0m\u001b[0;34m.\u001b[0m\u001b[0mwhere\u001b[0m\u001b[0;34m(\u001b[0m\u001b[0mexog_max\u001b[0m \u001b[0;34m==\u001b[0m \u001b[0mexog_min\u001b[0m\u001b[0;34m)\u001b[0m\u001b[0;34m[\u001b[0m\u001b[0;36m0\u001b[0m\u001b[0;34m]\u001b[0m\u001b[0;34m.\u001b[0m\u001b[0msqueeze\u001b[0m\u001b[0;34m(\u001b[0m\u001b[0;34m)\u001b[0m\u001b[0;34m\u001b[0m\u001b[0;34m\u001b[0m\u001b[0m\n",
      "\u001b[0;31mMissingDataError\u001b[0m: exog contains inf or nans"
     ]
    }
   ],
   "source": [
    "# Run on \n",
    "forms = ['normal', 'ratio']\n",
    "form_type = ['price', 'log-price']\n",
    "\n",
    "pair_l = []\n",
    "for key, val in stock_groups.items():\n",
    "    tickers = val\n",
    "    tickers.append('LQ45')\n",
    "    pairs, pvalues = find_coint_pairs(in_df, tickers, form='normal', form_type='price', alpha=0.02)\n",
    "    for pair, pvalue in zip(pairs, pvalues):\n",
    "        pair_l.append({\n",
    "                        'ticker_1': pair[0],\n",
    "                        'ticker_2': pair[1],\n",
    "                        'form': form + \"_\" + form_type,\n",
    "                        'eg_pvalue': pvalue\n",
    "                    })\n",
    "    \n",
    "pair_df = pd.DataFrame(pair_l)   "
   ]
  },
  {
   "cell_type": "markdown",
   "id": "c5bb8f03-eaf1-49f9-828d-0b12fcec0632",
   "metadata": {
    "tags": []
   },
   "source": [
    "### Statistical Check"
   ]
  },
  {
   "cell_type": "code",
   "execution_count": 9,
   "id": "912cfe8d-d07d-44eb-b617-3561d7d1e6e5",
   "metadata": {
    "tags": []
   },
   "outputs": [],
   "source": [
    "from statsmodels.stats.diagnostic import acorr_ljungbox as ljungbox\n",
    "\n",
    "def get_arima_best_order(df_logret, pq_rng=range(5), d_rng=range(2)):\n",
    "    best_aic = np.inf \n",
    "    arima_best_order = None\n",
    "    arima_best_mdl = None\n",
    "\n",
    "    for p in tqdm(pq_rng):\n",
    "        for d in d_rng:\n",
    "            for q in pq_rng:\n",
    "                tmp_mdl = smt.ARIMA(df_logret, \n",
    "                                    order=(p,d,q)).fit(method='innovations_mle')\n",
    "                tmp_aic = tmp_mdl.aic\n",
    "                if tmp_aic < best_aic:\n",
    "                    best_aic = tmp_aic\n",
    "                    arima_best_order = (p, d, q)\n",
    "                    arima_best_mdl = tmp_mdl\n",
    "    arima_resid = arima_best_mdl.resid\n",
    "    print(arima_best_mdl.summary())\n",
    "    \n",
    "    return arima_best_order, arima_resid"
   ]
  },
  {
   "cell_type": "code",
   "execution_count": null,
   "id": "3b332ce1-34ab-49cb-acf5-b58472e1b737",
   "metadata": {},
   "outputs": [
    {
     "name": "stderr",
     "output_type": "stream",
     "text": [
      " 60%|█████████████████████████████████████████▍                           | 3/5 [00:18<00:12,  6.18s/it]\n"
     ]
    }
   ],
   "source": [
    "# Run ARIMA Fitting\n",
    "arima_best_order, arima_resid = get_arima_best_order(in_df[ticker]['log_return'])\n",
    "\n",
    "## Test Ljungbox Fit\n",
    "lb_pval = ljungbox(arima_resid, lags=[arima_best_order[2]])['lb_pvalue'].values[0]\n",
    "lb_pval_2 = ljungbox(arima_resid**2, lags=[arima_best_order[2]])['lb_pvalue'].values[0]\n",
    "print(f'Ljung-Box P-Value on Residual        : {lb_pval}')\n",
    "print(f'Ljung-Box P-Value on Squared Residual: {lb_pval_2}')"
   ]
  },
  {
   "cell_type": "code",
   "execution_count": null,
   "id": "e3ef7082-2c1c-460a-a6bb-4befdb7d247e",
   "metadata": {},
   "outputs": [],
   "source": [
    "# ARIMA Model Summary\n",
    "_ = tsplot(arima_resid, lags=30)\n",
    "_ = tsplot(arima_resid ** 2, lags=30, title='Squared Analysis Plot')\n",
    "\n",
    "# TODO - Find other goodness of fit tests"
   ]
  },
  {
   "cell_type": "code",
   "execution_count": null,
   "id": "8f955222-5ed7-41f9-a737-b916afbb080a",
   "metadata": {},
   "outputs": [],
   "source": [
    "import os\n",
    "import subprocess\n",
    "\n",
    "def get_garch_1d_forecast(df_logret, arima_best_order):\n",
    "    # Prepare Input Files\n",
    "    ## ARIMA Model Best Order Fle\n",
    "    with open(\"arima_model.txt\", \"w+\") as f:\n",
    "        for item in arima_best_order:\n",
    "            f.writelines(str(item) + \"\\n\")\n",
    "    \n",
    "    ## Log Return File\n",
    "    df_logret.to_csv(\"log_ret.csv\", index=False)\n",
    "    \n",
    "    # Call R Script for fitting and forecasting garch\n",
    "    garch_script_path = \"./20220621_garch.r\"\n",
    "    subprocess.call(\"/usr/bin/Rscript \" + garch_script_path, shell=True)\n",
    "    \n",
    "    ## Get garch residuals and forecast\n",
    "    garch_resid = pd.read_csv(\"r-garch-resid.csv\")['V1']\n",
    "    \n",
    "    with open(\"r-garch-1d-forecast.txt\", \"r\") as f:\n",
    "        garch_1d_forecast = float(f.read().rstrip('\\n'))\n",
    "\n",
    "    os.remove(\"arima_model.txt\")\n",
    "    os.remove(\"log_ret.csv\")\n",
    "    os.remove(\"r-garch-resid.csv\")\n",
    "    os.remove(\"r-garch-1d-forecast.txt\")\n",
    "    \n",
    "    return  garch_1d_forecast, garch_resid"
   ]
  },
  {
   "cell_type": "code",
   "execution_count": null,
   "id": "5ddad07b-832f-420c-aed1-07b31564f02d",
   "metadata": {},
   "outputs": [],
   "source": [
    "# Run Garch 1d forecast\n",
    "garch_1d_forecast, garch_resid = get_garch_1d_forecast(in_df[ticker]['log_return'], arima_best_order)\n",
    "\n",
    "## Test Ljungbox Fit\n",
    "lb_pval = ljungbox(garch_resid, lags=[arima_best_order[2]])['lb_pvalue'].values[0]\n",
    "lb_pval_2 = ljungbox(garch_resid**2, lags=[arima_best_order[2]])['lb_pvalue'].values[0]\n",
    "print(f'Ljung-Box P-Value on Residual        : {lb_pval}')\n",
    "print(f'Ljung-Box P-Value on Squared Residual: {lb_pval_2}')"
   ]
  },
  {
   "cell_type": "code",
   "execution_count": null,
   "id": "1023458c-10fe-46fb-bbd8-addaafd7f28c",
   "metadata": {},
   "outputs": [],
   "source": [
    "# GARCH Model Summary\n",
    "_ = tsplot(garch_resid, lags=30)\n",
    "_ = tsplot(garch_resid**2, lags=30, title='Squared Analysis Plot')"
   ]
  },
  {
   "cell_type": "code",
   "execution_count": null,
   "id": "51a4a14c-d3fb-4907-b464-af73e0286cf0",
   "metadata": {},
   "outputs": [],
   "source": []
  }
 ],
 "metadata": {
  "kernelspec": {
   "display_name": "Python 3 (ipykernel)",
   "language": "python",
   "name": "python3"
  },
  "language_info": {
   "codemirror_mode": {
    "name": "ipython",
    "version": 3
   },
   "file_extension": ".py",
   "mimetype": "text/x-python",
   "name": "python",
   "nbconvert_exporter": "python",
   "pygments_lexer": "ipython3",
   "version": "3.7.10"
  }
 },
 "nbformat": 4,
 "nbformat_minor": 5
}
