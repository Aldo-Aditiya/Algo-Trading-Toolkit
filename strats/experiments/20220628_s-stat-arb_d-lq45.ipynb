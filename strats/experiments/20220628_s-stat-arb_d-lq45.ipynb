{
 "cells": [
  {
   "cell_type": "code",
   "execution_count": 1,
   "id": "b99a99ad-6a06-42b2-9074-13de47638e59",
   "metadata": {},
   "outputs": [],
   "source": [
    "import pandas as pd\n",
    "pd.options.mode.chained_assignment = None  # default='warn'\n",
    "import pandas_ta as ta\n",
    "import quantstats as qs\n",
    "qs.extend_pandas()\n",
    "\n",
    "import numpy as np\n",
    "import datetime\n",
    "from tqdm import tqdm\n",
    "from matplotlib import pyplot as plt\n",
    "%matplotlib inline\n",
    "import seaborn\n",
    "\n",
    "params = {'figure.facecolor': 'w'}\n",
    "plt.rcParams.update(params)\n",
    "\n",
    "from IPython.display import display"
   ]
  },
  {
   "cell_type": "markdown",
   "id": "4e735d5b-5d02-40c6-961d-07887cf6a250",
   "metadata": {
    "jp-MarkdownHeadingCollapsed": true,
    "tags": []
   },
   "source": [
    "## Helper Functions"
   ]
  },
  {
   "cell_type": "code",
   "execution_count": 2,
   "id": "2c0f8b55-026d-45fa-b573-265f4519e4ec",
   "metadata": {},
   "outputs": [],
   "source": [
    "# Preprocessing Functions\n",
    "def handle_nan(df, method='bfill'):\n",
    "    ## Fill NaN values with the earliest data\n",
    "    if method == 'bfill':\n",
    "        return df.fillna(method='bfill', axis=0)\n",
    "    elif method == 'zerofill':\n",
    "        return df.fillna(0)\n",
    "    elif method == 'drop':\n",
    "        return df.dropna()\n",
    "\n",
    "def extend_price_df(df):\n",
    "    '''\n",
    "    Calculates returns, log_returns, and log_prices to a df with 'price' column\n",
    "    '''\n",
    "    df['log-price'] = np.log(df['price'])\n",
    "    df['return'] = df['price'].pct_change()\n",
    "    df['log-return'] = np.log(1 + df['return'])\n",
    "    \n",
    "    df = handle_nan(df, method='zerofill')\n",
    "    \n",
    "    return df\n",
    "     \n",
    "def gen_combined_df(df_dict, dict_keys, col, nan_handle_method='bfill'):\n",
    "    for i, key in enumerate(dict_keys):\n",
    "        if i == 0:\n",
    "            df_buff = pd.DataFrame(index=df_dict[key].index)\n",
    "        for c in col:\n",
    "            df_buff[key + '_' + c] = df_dict[key][c]\n",
    "    \n",
    "    # Handle NaN values from combination of multiple tickers\n",
    "    # Assumes that NaN values because \"stock have not existed\" has been handled\n",
    "    df_buff = handle_nan(df_buff, method=nan_handle_method)\n",
    "    df_buff = handle_nan(df_buff, method='drop')\n",
    "            \n",
    "    return df_buff\n",
    "\n",
    "# Plotting Functions\n",
    "def tsplot(y, lags=None, figsize=(20, 8), style='bmh', title='Time Series Analysis Plots'):\n",
    "    # source: http://www.blackarbs.com/blog/time-series-analysis-in-python-linear-models-to-garch/11/1/2016#GARCH\n",
    "    \n",
    "    if not isinstance(y, pd.Series):\n",
    "        y = pd.Series(y)\n",
    "    with plt.style.context(style):    \n",
    "        fig = plt.figure(figsize=figsize)\n",
    "        layout = (3, 2)\n",
    "        ts_ax = plt.subplot2grid(layout, (0, 0), colspan=2)\n",
    "        acf_ax = plt.subplot2grid(layout, (1, 0))\n",
    "        pacf_ax = plt.subplot2grid(layout, (1, 1))\n",
    "        qq_ax = plt.subplot2grid(layout, (2, 0))\n",
    "        pp_ax = plt.subplot2grid(layout, (2, 1))\n",
    "        \n",
    "        y.plot(ax=ts_ax)\n",
    "        ts_ax.set_title(title)\n",
    "        smt.graphics.plot_acf(y, lags=lags, ax=acf_ax, alpha=0.05, zero=False, auto_ylims=True)\n",
    "        smt.graphics.plot_pacf(y, lags=lags, ax=pacf_ax, alpha=0.05, zero=False, auto_ylims=True)\n",
    "        sm.qqplot(y, line='s', ax=qq_ax)\n",
    "        qq_ax.set_title('QQ Plot')        \n",
    "        scs.probplot(y, sparams=(y.mean(), y.std()), plot=pp_ax)\n",
    "\n",
    "        plt.tight_layout()\n",
    "    return "
   ]
  },
  {
   "cell_type": "markdown",
   "id": "8f26c94c-daa4-480e-a691-3a7ed202c375",
   "metadata": {
    "jp-MarkdownHeadingCollapsed": true,
    "tags": []
   },
   "source": [
    "## Data Preparation"
   ]
  },
  {
   "cell_type": "markdown",
   "id": "e7dccf9d-f766-4f35-aed2-d6ac7f1076df",
   "metadata": {
    "jp-MarkdownHeadingCollapsed": true,
    "tags": []
   },
   "source": [
    "### Data Loading"
   ]
  },
  {
   "cell_type": "code",
   "execution_count": 3,
   "id": "fbedc232-0984-4c62-a1eb-2ef519a81f93",
   "metadata": {},
   "outputs": [],
   "source": [
    "# Data Directory\n",
    "data_dir = '/workspace/202205_idx-trading/_data/'\n",
    "lq45_dir = '/workspace/202205_idx-trading/_data/20220525_lq45/'\n",
    "lq45_index_file = data_dir + '20220525_lq45_index.csv'\n",
    "lq45_list = '20220525_lq45-list.txt'\n",
    "\n",
    "# Prepare Stock Tickers\n",
    "with open(data_dir + lq45_list, \"r\") as f:\n",
    "    lq45_tickers = f.read().split('\\n')\n",
    "\n",
    "## Prepare active tickers for international codes\n",
    "active_tickers = [f + '.JK' for f in lq45_tickers]\n",
    "active_tickers.append('LQ45')"
   ]
  },
  {
   "cell_type": "code",
   "execution_count": 4,
   "id": "3c125390-38a2-4a75-b392-83f47a47bee0",
   "metadata": {},
   "outputs": [
    {
     "name": "stderr",
     "output_type": "stream",
     "text": [
      "100%|█████████████████████████████████████████████████████| 46/46 [00:01<00:00, 29.51it/s]\n"
     ]
    }
   ],
   "source": [
    "# Prepare Time Series Data\n",
    "# TODO - Returns calculation need to be done after fill\n",
    "nan_handle_method = 'bfill'\n",
    "\n",
    "df_dict = {}\n",
    "for ticker in tqdm(active_tickers):\n",
    "    if ticker == 'LQ45':\n",
    "        df_dict[ticker] = pd.read_csv(lq45_index_file)\n",
    "    else:\n",
    "        df_dict[ticker] = pd.read_csv(lq45_dir + ticker + '.csv')\n",
    "    \n",
    "    ## Take Only Date and Adjusted Close\n",
    "    df_dict[ticker] = df_dict[ticker][['Date', 'Adj Close']]\n",
    "    df_dict['Date'] = pd.to_datetime(df_dict[ticker]['Date'])\n",
    "    df_dict[ticker].set_index(pd.DatetimeIndex(df_dict[ticker]['Date']), inplace=True)\n",
    "    \n",
    "    df_dict[ticker].drop('Date', axis=1, inplace=True)\n",
    "    \n",
    "    ## Convert Adj Close to price\n",
    "    df_dict[ticker]['price'] = df_dict[ticker]['Adj Close']\n",
    "    df_dict[ticker].drop('Adj Close', axis=1, inplace=True)"
   ]
  },
  {
   "cell_type": "code",
   "execution_count": 5,
   "id": "0a521abf-43a8-4678-b1e6-6dc2221725d1",
   "metadata": {},
   "outputs": [
    {
     "name": "stderr",
     "output_type": "stream",
     "text": [
      "100%|█████████████████████████████████████████████████████| 46/46 [00:00<00:00, 56.71it/s]\n"
     ]
    }
   ],
   "source": [
    "# Separate Into In Sample and Out Sample\n",
    "date_start = '2009-01-01'\n",
    "date_breakpoint = '2019-01-01'\n",
    "\n",
    "nan_cnt_threshold = 252*2\n",
    "\n",
    "in_df = {}\n",
    "out_df = {}\n",
    "rmv_tickers = []\n",
    "for ticker in tqdm(active_tickers):\n",
    "    ## Take In Sample and Out Sample Data\n",
    "    in_df[ticker] = df_dict[ticker][(df_dict[ticker].index >= date_start) & \n",
    "                                                (df_dict[ticker].index < date_breakpoint)]\n",
    "    out_df[ticker] = df_dict[ticker][df_dict[ticker].index >= date_breakpoint]\n",
    "    \n",
    "    ## Check if there are too many NaN values\n",
    "    if in_df[ticker]['price'].isna().sum() > nan_cnt_threshold:\n",
    "        rmv_tickers.append(ticker)\n",
    "        continue\n",
    "    \n",
    "    ## Handle NaN Values\n",
    "    in_df[ticker] = handle_nan(in_df[ticker], method=nan_handle_method)\n",
    "    out_df[ticker] = handle_nan(out_df[ticker], method=nan_handle_method)\n",
    "    \n",
    "    ## Extend price to other values\n",
    "    in_df[ticker] = extend_price_df(in_df[ticker])\n",
    "    out_df[ticker] = extend_price_df(out_df[ticker])\n",
    "\n",
    "# Remove tickers that only have small amounts of data\n",
    "active_tickers = [t for t in active_tickers if t not in rmv_tickers]"
   ]
  },
  {
   "cell_type": "markdown",
   "id": "f3bcddc3-3ee9-40d1-a0a0-ab5b6fb6fbc6",
   "metadata": {
    "tags": []
   },
   "source": [
    "## Data Exploration\n",
    "Cointegration exploration is done on in-sample data only, so out of sample data is purely for testing.\n",
    "\n",
    "*We will revisit cointegration testing on OOS data later on.\n",
    "\n",
    "Steps:\n",
    "- Test using existing engle-granger package. Also calculate Hurst Exponent.\n",
    "- Do a separate OLS to get beta of (potentially) cointegrating pair. Visualize Mean Reversion to verify.\n",
    "- Fit Ornstein-Uhlenbeck process to generate lambda (and subsequently, half life)"
   ]
  },
  {
   "cell_type": "markdown",
   "id": "109e3c6c-f514-4d09-b4dd-0c11c9c56bf7",
   "metadata": {},
   "source": [
    "### Engle-Granger Cointegration Test"
   ]
  },
  {
   "cell_type": "code",
   "execution_count": 16,
   "id": "a88cbcb8-cd39-4042-b25d-8bee34cc9ea1",
   "metadata": {},
   "outputs": [],
   "source": [
    "from statsmodels.tsa.stattools import coint\n",
    "from statsmodels.tsa.stattools import adfuller\n",
    "\n",
    "def find_coint_pairs(df_dict, tickers, form='normal', form_type='price', alpha=0.05):\n",
    "    '''\n",
    "    Finds cointegrated pairs from df_dict serial data, based on given tickers.\n",
    "    '''\n",
    "    n = len(tickers)\n",
    "    pairs = []\n",
    "    pvalues = []\n",
    "    \n",
    "    for i in range(0, n):\n",
    "        for j in range(i+1, n):\n",
    "            \n",
    "            comb_df = gen_combined_df(df_dict, [tickers[i], tickers[j]], [form_type])\n",
    "            S1 = comb_df[tickers[i] + \"_\" + form_type]\n",
    "            S2 = comb_df[tickers[j] + \"_\" + form_type]\n",
    "                \n",
    "            if(form == 'normal'):\n",
    "                result = coint(S1, S2)\n",
    "                pvalue = result[1]\n",
    "                \n",
    "            elif(form == 'ratio'):\n",
    "                ratio = S1 / S2\n",
    "               \n",
    "                result = adfuller(ratio)\n",
    "                pvalue = result[1]\n",
    "                \n",
    "            if pvalue < alpha:\n",
    "                pairs.append([tickers[i], tickers[j]])\n",
    "                pvalues.append(pvalue)\n",
    "                      \n",
    "    return pairs, pvalues\n",
    "\n",
    "def hurst():\n",
    "    pass"
   ]
  },
  {
   "cell_type": "code",
   "execution_count": 17,
   "id": "65919ce7-cfd3-4034-95bd-afe61116ab1e",
   "metadata": {},
   "outputs": [],
   "source": [
    "# Prepare LQ45 Stock Indexes of the Same Group\n",
    "stock_groups = {\n",
    "    \"energy_and_mining\": ['BRPT.JK', 'HRUM.JK', 'MEDC.JK', 'PGAS.JK', 'TPIA.JK', 'ADRO.JK', 'ITMG.JK', 'PTBA.JK', 'INCO.JK', 'MDKA.JK', 'ANTM.JK'],\n",
    "    \"retail\": ['AMRT.JK', 'UNVR.JK', 'ERAA.JK', 'ASII.JK'],\n",
    "    \"food_agri\": ['CPIN.JK', 'JPFA.JK', 'ICBP.JK', 'INDF.JK'],\n",
    "    \"paper\": ['TKIM.JK', 'INKP.JK'],\n",
    "    \"finance\": ['BBCA.JK', 'BBNI.JK', 'BBRI.JK', 'BBTN.JK', 'BMRI.JK', 'BFIN.JK'],\n",
    "    \"media\": ['EMTK.JK', 'MNCN.JK'],\n",
    "    \"telcom\": ['EXCL.JK', 'TLKM.JK', 'TBIG.JK', 'TOWR.JK'],\n",
    "    \"tobacco\": ['GGRM.JK', 'HMSP.JK'],\n",
    "    \"construction\": ['INTP.JK', 'PTPP.JK', 'SMGR.JK', 'UNTR.JK', 'WIKA.JK', 'WSKT.JK'],\n",
    "    \"medical\": ['KLBF.JK', 'MIKA.JK']\n",
    "}\n",
    "\n",
    "# Filter to only those that are active\n",
    "for key, val in stock_groups.items():\n",
    "    stock_groups[key] = [t for t in val if t in active_tickers]"
   ]
  },
  {
   "cell_type": "code",
   "execution_count": 18,
   "id": "7e4eded1-91d7-4bdb-a2e1-94a5da55cc14",
   "metadata": {},
   "outputs": [
    {
     "name": "stderr",
     "output_type": "stream",
     "text": [
      "100%|█████████████████████████████████████████████████████| 10/10 [01:15<00:00,  7.53s/it]\n"
     ]
    }
   ],
   "source": [
    "# Run on Different Forms\n",
    "forms = ['normal', 'ratio']\n",
    "form_types = ['price', 'log-price']\n",
    "\n",
    "pair_l = []\n",
    "for key, val in tqdm(stock_groups.items()):\n",
    "    tickers = val\n",
    "    tickers.append('LQ45')\n",
    "    \n",
    "    for f in forms:\n",
    "        for ft in form_types:\n",
    "    \n",
    "            pairs, pvalues = find_coint_pairs(in_df, tickers, form=f, form_type=ft, alpha=0.025)\n",
    "            for pair, pvalue in zip(pairs, pvalues):\n",
    "                pair_l.append({\n",
    "                                'ticker_1': pair[0],\n",
    "                                'ticker_2': pair[1],\n",
    "                                'form': f + \"_\" + ft,\n",
    "                                'eg_pvalue': pvalue\n",
    "                            })\n",
    "    \n",
    "pair_df = pd.DataFrame(pair_l) "
   ]
  },
  {
   "cell_type": "code",
   "execution_count": null,
   "id": "74189500-906a-4c03-bf78-bc693d155428",
   "metadata": {},
   "outputs": [],
   "source": [
    "# Calculate Hurst Exponent\n"
   ]
  },
  {
   "cell_type": "code",
   "execution_count": 19,
   "id": "229f082a-4376-477c-8d90-d2aa31042f45",
   "metadata": {},
   "outputs": [
    {
     "data": {
      "text/html": [
       "<div>\n",
       "<style scoped>\n",
       "    .dataframe tbody tr th:only-of-type {\n",
       "        vertical-align: middle;\n",
       "    }\n",
       "\n",
       "    .dataframe tbody tr th {\n",
       "        vertical-align: top;\n",
       "    }\n",
       "\n",
       "    .dataframe thead th {\n",
       "        text-align: right;\n",
       "    }\n",
       "</style>\n",
       "<table border=\"1\" class=\"dataframe\">\n",
       "  <thead>\n",
       "    <tr style=\"text-align: right;\">\n",
       "      <th></th>\n",
       "      <th>ticker_1</th>\n",
       "      <th>ticker_2</th>\n",
       "      <th>form</th>\n",
       "      <th>eg_pvalue</th>\n",
       "    </tr>\n",
       "  </thead>\n",
       "  <tbody>\n",
       "    <tr>\n",
       "      <th>0</th>\n",
       "      <td>HRUM.JK</td>\n",
       "      <td>ADRO.JK</td>\n",
       "      <td>ratio_price</td>\n",
       "      <td>1.244188e-02</td>\n",
       "    </tr>\n",
       "    <tr>\n",
       "      <th>1</th>\n",
       "      <td>HRUM.JK</td>\n",
       "      <td>ITMG.JK</td>\n",
       "      <td>ratio_price</td>\n",
       "      <td>2.179757e-09</td>\n",
       "    </tr>\n",
       "    <tr>\n",
       "      <th>2</th>\n",
       "      <td>MEDC.JK</td>\n",
       "      <td>ADRO.JK</td>\n",
       "      <td>ratio_price</td>\n",
       "      <td>4.866809e-03</td>\n",
       "    </tr>\n",
       "    <tr>\n",
       "      <th>3</th>\n",
       "      <td>MEDC.JK</td>\n",
       "      <td>INCO.JK</td>\n",
       "      <td>ratio_price</td>\n",
       "      <td>1.913656e-02</td>\n",
       "    </tr>\n",
       "    <tr>\n",
       "      <th>4</th>\n",
       "      <td>ASII.JK</td>\n",
       "      <td>LQ45</td>\n",
       "      <td>ratio_price</td>\n",
       "      <td>1.772788e-02</td>\n",
       "    </tr>\n",
       "    <tr>\n",
       "      <th>5</th>\n",
       "      <td>CPIN.JK</td>\n",
       "      <td>LQ45</td>\n",
       "      <td>ratio_log-price</td>\n",
       "      <td>1.518125e-02</td>\n",
       "    </tr>\n",
       "    <tr>\n",
       "      <th>6</th>\n",
       "      <td>INDF.JK</td>\n",
       "      <td>LQ45</td>\n",
       "      <td>ratio_log-price</td>\n",
       "      <td>1.903012e-02</td>\n",
       "    </tr>\n",
       "    <tr>\n",
       "      <th>7</th>\n",
       "      <td>BBCA.JK</td>\n",
       "      <td>BBRI.JK</td>\n",
       "      <td>normal_price</td>\n",
       "      <td>1.508674e-02</td>\n",
       "    </tr>\n",
       "    <tr>\n",
       "      <th>8</th>\n",
       "      <td>BBRI.JK</td>\n",
       "      <td>BMRI.JK</td>\n",
       "      <td>normal_price</td>\n",
       "      <td>1.147398e-02</td>\n",
       "    </tr>\n",
       "    <tr>\n",
       "      <th>9</th>\n",
       "      <td>BBCA.JK</td>\n",
       "      <td>BBRI.JK</td>\n",
       "      <td>normal_log-price</td>\n",
       "      <td>1.154960e-04</td>\n",
       "    </tr>\n",
       "    <tr>\n",
       "      <th>10</th>\n",
       "      <td>BBRI.JK</td>\n",
       "      <td>BMRI.JK</td>\n",
       "      <td>normal_log-price</td>\n",
       "      <td>1.832896e-02</td>\n",
       "    </tr>\n",
       "    <tr>\n",
       "      <th>11</th>\n",
       "      <td>BBCA.JK</td>\n",
       "      <td>BBRI.JK</td>\n",
       "      <td>ratio_price</td>\n",
       "      <td>3.730033e-06</td>\n",
       "    </tr>\n",
       "    <tr>\n",
       "      <th>12</th>\n",
       "      <td>BBTN.JK</td>\n",
       "      <td>BMRI.JK</td>\n",
       "      <td>ratio_price</td>\n",
       "      <td>6.794013e-03</td>\n",
       "    </tr>\n",
       "    <tr>\n",
       "      <th>13</th>\n",
       "      <td>BBCA.JK</td>\n",
       "      <td>BBRI.JK</td>\n",
       "      <td>ratio_log-price</td>\n",
       "      <td>1.350767e-05</td>\n",
       "    </tr>\n",
       "    <tr>\n",
       "      <th>14</th>\n",
       "      <td>GGRM.JK</td>\n",
       "      <td>HMSP.JK</td>\n",
       "      <td>normal_log-price</td>\n",
       "      <td>7.777491e-03</td>\n",
       "    </tr>\n",
       "    <tr>\n",
       "      <th>15</th>\n",
       "      <td>GGRM.JK</td>\n",
       "      <td>LQ45</td>\n",
       "      <td>ratio_log-price</td>\n",
       "      <td>1.784392e-02</td>\n",
       "    </tr>\n",
       "    <tr>\n",
       "      <th>16</th>\n",
       "      <td>INTP.JK</td>\n",
       "      <td>PTPP.JK</td>\n",
       "      <td>normal_log-price</td>\n",
       "      <td>1.250429e-02</td>\n",
       "    </tr>\n",
       "    <tr>\n",
       "      <th>17</th>\n",
       "      <td>KLBF.JK</td>\n",
       "      <td>LQ45</td>\n",
       "      <td>ratio_log-price</td>\n",
       "      <td>2.314788e-04</td>\n",
       "    </tr>\n",
       "  </tbody>\n",
       "</table>\n",
       "</div>"
      ],
      "text/plain": [
       "   ticker_1 ticker_2              form     eg_pvalue\n",
       "0   HRUM.JK  ADRO.JK       ratio_price  1.244188e-02\n",
       "1   HRUM.JK  ITMG.JK       ratio_price  2.179757e-09\n",
       "2   MEDC.JK  ADRO.JK       ratio_price  4.866809e-03\n",
       "3   MEDC.JK  INCO.JK       ratio_price  1.913656e-02\n",
       "4   ASII.JK     LQ45       ratio_price  1.772788e-02\n",
       "5   CPIN.JK     LQ45   ratio_log-price  1.518125e-02\n",
       "6   INDF.JK     LQ45   ratio_log-price  1.903012e-02\n",
       "7   BBCA.JK  BBRI.JK      normal_price  1.508674e-02\n",
       "8   BBRI.JK  BMRI.JK      normal_price  1.147398e-02\n",
       "9   BBCA.JK  BBRI.JK  normal_log-price  1.154960e-04\n",
       "10  BBRI.JK  BMRI.JK  normal_log-price  1.832896e-02\n",
       "11  BBCA.JK  BBRI.JK       ratio_price  3.730033e-06\n",
       "12  BBTN.JK  BMRI.JK       ratio_price  6.794013e-03\n",
       "13  BBCA.JK  BBRI.JK   ratio_log-price  1.350767e-05\n",
       "14  GGRM.JK  HMSP.JK  normal_log-price  7.777491e-03\n",
       "15  GGRM.JK     LQ45   ratio_log-price  1.784392e-02\n",
       "16  INTP.JK  PTPP.JK  normal_log-price  1.250429e-02\n",
       "17  KLBF.JK     LQ45   ratio_log-price  2.314788e-04"
      ]
     },
     "metadata": {},
     "output_type": "display_data"
    }
   ],
   "source": [
    "display(pair_df)"
   ]
  },
  {
   "cell_type": "markdown",
   "id": "a7b5d275-39a7-42c7-9b7b-bd18bbaa0250",
   "metadata": {},
   "source": [
    "### Visualization"
   ]
  },
  {
   "cell_type": "code",
   "execution_count": null,
   "id": "170ff59e-ea5c-4987-beae-b2007d24a122",
   "metadata": {},
   "outputs": [],
   "source": []
  },
  {
   "cell_type": "markdown",
   "id": "c5bb8f03-eaf1-49f9-828d-0b12fcec0632",
   "metadata": {
    "tags": []
   },
   "source": [
    "### Ornstein-Uhlenbeck Fit"
   ]
  },
  {
   "cell_type": "code",
   "execution_count": 9,
   "id": "912cfe8d-d07d-44eb-b617-3561d7d1e6e5",
   "metadata": {
    "tags": []
   },
   "outputs": [],
   "source": [
    "from statsmodels.stats.diagnostic import acorr_ljungbox as ljungbox\n",
    "\n",
    "def get_arima_best_order(df_logret, pq_rng=range(5), d_rng=range(2)):\n",
    "    best_aic = np.inf \n",
    "    arima_best_order = None\n",
    "    arima_best_mdl = None\n",
    "\n",
    "    for p in tqdm(pq_rng):\n",
    "        for d in d_rng:\n",
    "            for q in pq_rng:\n",
    "                tmp_mdl = smt.ARIMA(df_logret, \n",
    "                                    order=(p,d,q)).fit(method='innovations_mle')\n",
    "                tmp_aic = tmp_mdl.aic\n",
    "                if tmp_aic < best_aic:\n",
    "                    best_aic = tmp_aic\n",
    "                    arima_best_order = (p, d, q)\n",
    "                    arima_best_mdl = tmp_mdl\n",
    "    arima_resid = arima_best_mdl.resid\n",
    "    print(arima_best_mdl.summary())\n",
    "    \n",
    "    return arima_best_order, arima_resid"
   ]
  },
  {
   "cell_type": "code",
   "execution_count": null,
   "id": "3b332ce1-34ab-49cb-acf5-b58472e1b737",
   "metadata": {},
   "outputs": [
    {
     "name": "stderr",
     "output_type": "stream",
     "text": [
      " 60%|█████████████████████████████████████████▍                           | 3/5 [00:18<00:12,  6.18s/it]\n"
     ]
    }
   ],
   "source": [
    "# Run ARIMA Fitting\n",
    "arima_best_order, arima_resid = get_arima_best_order(in_df[ticker]['log_return'])\n",
    "\n",
    "## Test Ljungbox Fit\n",
    "lb_pval = ljungbox(arima_resid, lags=[arima_best_order[2]])['lb_pvalue'].values[0]\n",
    "lb_pval_2 = ljungbox(arima_resid**2, lags=[arima_best_order[2]])['lb_pvalue'].values[0]\n",
    "print(f'Ljung-Box P-Value on Residual        : {lb_pval}')\n",
    "print(f'Ljung-Box P-Value on Squared Residual: {lb_pval_2}')"
   ]
  },
  {
   "cell_type": "code",
   "execution_count": null,
   "id": "e3ef7082-2c1c-460a-a6bb-4befdb7d247e",
   "metadata": {},
   "outputs": [],
   "source": [
    "# ARIMA Model Summary\n",
    "_ = tsplot(arima_resid, lags=30)\n",
    "_ = tsplot(arima_resid ** 2, lags=30, title='Squared Analysis Plot')\n",
    "\n",
    "# TODO - Find other goodness of fit tests"
   ]
  },
  {
   "cell_type": "code",
   "execution_count": null,
   "id": "8f955222-5ed7-41f9-a737-b916afbb080a",
   "metadata": {},
   "outputs": [],
   "source": [
    "import os\n",
    "import subprocess\n",
    "\n",
    "def get_garch_1d_forecast(df_logret, arima_best_order):\n",
    "    # Prepare Input Files\n",
    "    ## ARIMA Model Best Order Fle\n",
    "    with open(\"arima_model.txt\", \"w+\") as f:\n",
    "        for item in arima_best_order:\n",
    "            f.writelines(str(item) + \"\\n\")\n",
    "    \n",
    "    ## Log Return File\n",
    "    df_logret.to_csv(\"log_ret.csv\", index=False)\n",
    "    \n",
    "    # Call R Script for fitting and forecasting garch\n",
    "    garch_script_path = \"./20220621_garch.r\"\n",
    "    subprocess.call(\"/usr/bin/Rscript \" + garch_script_path, shell=True)\n",
    "    \n",
    "    ## Get garch residuals and forecast\n",
    "    garch_resid = pd.read_csv(\"r-garch-resid.csv\")['V1']\n",
    "    \n",
    "    with open(\"r-garch-1d-forecast.txt\", \"r\") as f:\n",
    "        garch_1d_forecast = float(f.read().rstrip('\\n'))\n",
    "\n",
    "    os.remove(\"arima_model.txt\")\n",
    "    os.remove(\"log_ret.csv\")\n",
    "    os.remove(\"r-garch-resid.csv\")\n",
    "    os.remove(\"r-garch-1d-forecast.txt\")\n",
    "    \n",
    "    return  garch_1d_forecast, garch_resid"
   ]
  },
  {
   "cell_type": "code",
   "execution_count": null,
   "id": "5ddad07b-832f-420c-aed1-07b31564f02d",
   "metadata": {},
   "outputs": [],
   "source": [
    "# Run Garch 1d forecast\n",
    "garch_1d_forecast, garch_resid = get_garch_1d_forecast(in_df[ticker]['log_return'], arima_best_order)\n",
    "\n",
    "## Test Ljungbox Fit\n",
    "lb_pval = ljungbox(garch_resid, lags=[arima_best_order[2]])['lb_pvalue'].values[0]\n",
    "lb_pval_2 = ljungbox(garch_resid**2, lags=[arima_best_order[2]])['lb_pvalue'].values[0]\n",
    "print(f'Ljung-Box P-Value on Residual        : {lb_pval}')\n",
    "print(f'Ljung-Box P-Value on Squared Residual: {lb_pval_2}')"
   ]
  },
  {
   "cell_type": "code",
   "execution_count": null,
   "id": "1023458c-10fe-46fb-bbd8-addaafd7f28c",
   "metadata": {},
   "outputs": [],
   "source": [
    "# GARCH Model Summary\n",
    "_ = tsplot(garch_resid, lags=30)\n",
    "_ = tsplot(garch_resid**2, lags=30, title='Squared Analysis Plot')"
   ]
  },
  {
   "cell_type": "code",
   "execution_count": null,
   "id": "51a4a14c-d3fb-4907-b464-af73e0286cf0",
   "metadata": {},
   "outputs": [],
   "source": []
  },
  {
   "cell_type": "markdown",
   "id": "21ed9700-627b-417f-b96a-c7b741ae2a25",
   "metadata": {},
   "source": [
    "## Strategy"
   ]
  },
  {
   "cell_type": "code",
   "execution_count": null,
   "id": "735de54a-a648-4d8f-b7eb-b303cb0aced3",
   "metadata": {},
   "outputs": [],
   "source": []
  }
 ],
 "metadata": {
  "kernelspec": {
   "display_name": "Python 3 (ipykernel)",
   "language": "python",
   "name": "python3"
  },
  "language_info": {
   "codemirror_mode": {
    "name": "ipython",
    "version": 3
   },
   "file_extension": ".py",
   "mimetype": "text/x-python",
   "name": "python",
   "nbconvert_exporter": "python",
   "pygments_lexer": "ipython3",
   "version": "3.7.10"
  }
 },
 "nbformat": 4,
 "nbformat_minor": 5
}
