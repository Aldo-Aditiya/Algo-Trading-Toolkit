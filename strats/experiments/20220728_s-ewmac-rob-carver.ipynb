{
 "cells": [
  {
   "cell_type": "markdown",
   "id": "7ca9d6a0-ccab-422f-9288-8e528c0eb1c9",
   "metadata": {},
   "source": [
    "## Definitions"
   ]
  },
  {
   "cell_type": "code",
   "execution_count": 1,
   "id": "cdeaa64a-4708-4646-9277-a9fb0d0f7d0f",
   "metadata": {},
   "outputs": [],
   "source": [
    "import os\n",
    "import sys\n",
    "import shutil\n",
    "\n",
    "import pandas as pd\n",
    "pd.options.mode.chained_assignment = None  # default='warn'\n",
    "import pandas_ta as ta\n",
    "import quantstats as qs\n",
    "qs.extend_pandas()\n",
    "\n",
    "import numpy as np\n",
    "\n",
    "from datetime import datetime, timedelta\n",
    "from tqdm import tqdm\n",
    "from matplotlib import pyplot as plt\n",
    "%matplotlib inline\n",
    "\n",
    "params = {'figure.facecolor': 'w'}\n",
    "plt.rcParams.update(params)\n",
    "\n",
    "from IPython.display import display\n",
    "\n",
    "''' Import custom Library '''\n",
    "lib_path = '/workspace/202205_idx-trading/lib'\n",
    "sys.path.insert(0, lib_path)\n",
    "# Read Imports\n",
    "from utils import read_config\n",
    "from strat_utils import LQ45BaseStrategy\n",
    "from data_utils import gen_combined_df, extend_price_df, handle_nan\n",
    "from backtest import Backtest, HistoricalScenarioBacktest, RandomizedBacktest\n",
    "sys.path.remove(lib_path)"
   ]
  },
  {
   "cell_type": "markdown",
   "id": "531646ae-e7f9-431f-8239-5166384ef3c3",
   "metadata": {},
   "source": [
    "### Parameter and Directories Definition"
   ]
  },
  {
   "cell_type": "code",
   "execution_count": 2,
   "id": "f73d4958-ecb3-43c5-b2b9-978988345602",
   "metadata": {},
   "outputs": [],
   "source": [
    "# Parameters\n",
    "date_start = '2010-01-01'\n",
    "date_breakpoint = '2019-01-01'\n",
    "strat_class = \"Momentum\"\n",
    "std = 1"
   ]
  },
  {
   "cell_type": "code",
   "execution_count": 3,
   "id": "254dfbe8-7393-4e04-9e46-293a922afc80",
   "metadata": {},
   "outputs": [],
   "source": [
    "# Data Directory\n",
    "data_dir = '/workspace/202205_idx-trading/_data/'\n",
    "lq45_dir = '/workspace/202205_idx-trading/_data/20220525_lq45/'\n",
    "lq45_index_file = data_dir + '20220525_lq45_index.csv'\n",
    "lq45_list = '20220525_lq45-list.txt'"
   ]
  },
  {
   "cell_type": "markdown",
   "id": "26d85c94-218e-4fe6-ac32-d2bf95dd94e0",
   "metadata": {},
   "source": [
    "## Data Preparation"
   ]
  },
  {
   "cell_type": "markdown",
   "id": "7288979e-4079-44be-9c4b-c7c7cbad78ad",
   "metadata": {},
   "source": [
    "### Data Loading\n",
    "Note: Only In sample data is loaded"
   ]
  },
  {
   "cell_type": "code",
   "execution_count": 4,
   "id": "2a2b594e-712e-4593-bd26-a0ef5c10b034",
   "metadata": {},
   "outputs": [],
   "source": [
    "# Prepare Stock Tickers\n",
    "with open(data_dir + lq45_list, \"r\") as f:\n",
    "    lq45_tickers = f.read().split('\\n')\n",
    "\n",
    "## Prepare active tickers for international codes\n",
    "active_tickers = [f + '.JK' for f in lq45_tickers]\n",
    "active_tickers.append('LQ45')"
   ]
  },
  {
   "cell_type": "code",
   "execution_count": 5,
   "id": "ecb2cbcb-d969-42dc-9acf-eb7ff47f78a5",
   "metadata": {},
   "outputs": [
    {
     "name": "stderr",
     "output_type": "stream",
     "text": [
      "100%|██████████████████████████████████████████████████████████████████████████████████████████████████████████████████████████████████████████████████████████████████████████████| 46/46 [00:00<00:00, 71.52it/s]\n"
     ]
    }
   ],
   "source": [
    "# Prepare Time Series Data\n",
    "nan_handle_method = 'bfill'\n",
    "\n",
    "df_dict = {}\n",
    "for ticker in tqdm(active_tickers):\n",
    "    if ticker == 'LQ45':\n",
    "        df_dict[ticker] = pd.read_csv(lq45_index_file)\n",
    "    else:\n",
    "        df_dict[ticker] = pd.read_csv(lq45_dir + ticker + '.csv')\n",
    "    \n",
    "    ## Take Only Date and Adjusted Close\n",
    "    df_dict[ticker] = df_dict[ticker][['Date', 'Adj Close']]\n",
    "    df_dict['Date'] = pd.to_datetime(df_dict[ticker]['Date'])\n",
    "    df_dict[ticker].set_index(pd.DatetimeIndex(df_dict[ticker]['Date']), inplace=True)\n",
    "    \n",
    "    df_dict[ticker].drop('Date', axis=1, inplace=True)\n",
    "    \n",
    "    ## Convert Adj Close to price\n",
    "    df_dict[ticker]['price'] = df_dict[ticker]['Adj Close']\n",
    "    df_dict[ticker].drop('Adj Close', axis=1, inplace=True)"
   ]
  },
  {
   "cell_type": "code",
   "execution_count": 6,
   "id": "9219738b-f0e5-40be-84db-fcf60cce646f",
   "metadata": {},
   "outputs": [
    {
     "name": "stderr",
     "output_type": "stream",
     "text": [
      "100%|█████████████████████████████████████████████████████████████████████████████████████████████████████████████████████████████████████████████████████████████████████████████| 46/46 [00:00<00:00, 352.21it/s]\n"
     ]
    }
   ],
   "source": [
    "# Generate In Sample Dataset\n",
    "nan_cnt_threshold = 252*2\n",
    "\n",
    "in_df = {}\n",
    "out_df = {}\n",
    "rmv_tickers = []\n",
    "for ticker in tqdm(active_tickers):\n",
    "    ## Take In Sample and Out Sample Data\n",
    "    in_df[ticker] = df_dict[ticker][(df_dict[ticker].index >= date_start) & \n",
    "                                                (df_dict[ticker].index < date_breakpoint)]\n",
    "    \n",
    "    ## Check if there are too many NaN values\n",
    "    if in_df[ticker]['price'].isna().sum() > nan_cnt_threshold:\n",
    "        rmv_tickers.append(ticker)\n",
    "        continue\n",
    "    \n",
    "    ## Handle NaN Values\n",
    "    in_df[ticker] = handle_nan(in_df[ticker], method=nan_handle_method)\n",
    "    \n",
    "    ## Extend price to other values\n",
    "    in_df[ticker] = extend_price_df(in_df[ticker])\n",
    "\n",
    "# Remove tickers that only have small amounts of data\n",
    "active_tickers = [t for t in active_tickers if t not in rmv_tickers]"
   ]
  },
  {
   "cell_type": "markdown",
   "id": "5e78d4ad-7d13-44dc-a9ce-73b88d08b822",
   "metadata": {},
   "source": [
    "## Strategy Design\n",
    "Done by the Robert Carver method: https://www.youtube.com/watch?app=desktop&v=-aT55uRJI8Q"
   ]
  },
  {
   "cell_type": "code",
   "execution_count": null,
   "id": "51f3624b-c72f-475d-8aec-a2450f20c339",
   "metadata": {},
   "outputs": [],
   "source": [
    "class EWMACStrategy(LQ45BaseStrategy):\n",
    "    '''\n",
    "    Exponential Moving Average Crossover Strategy\n",
    "    '''\n",
    "    def __init__(self, config=None, config_filepath=None, mode=\"paper_trade\"):\n",
    "        super.__init__(config=config, config_filepath=config_filepath, mode=mode)\n",
    "    \n",
    "    def prepare_indicators(self, df_dict):\n",
    "        pass\n",
    "    \n",
    "    def gen_signals(self, strat_df):\n",
    "        pass\n",
    "    \n",
    "    def run(self):\n",
    "        self.df_data_dict = self.prepare_data()\n",
    "        self.strat_df = self.prepare_indicators(self.df_data_dict)\n",
    "        self.strat_df = self.gen_signals(self.strat_df)\n",
    "        \n",
    "        return self.strat_df"
   ]
  },
  {
   "cell_type": "code",
   "execution_count": 39,
   "id": "09b28322-07ca-463c-813f-04a79a64e156",
   "metadata": {},
   "outputs": [],
   "source": [
    "cr_n_pick = round(len(active_tickers) / 2)\n",
    "b = Backtest()"
   ]
  },
  {
   "cell_type": "markdown",
   "id": "831cb851-f769-4524-abc8-9b96ec539712",
   "metadata": {},
   "source": [
    "## Strategy + Backtest"
   ]
  },
  {
   "cell_type": "markdown",
   "id": "64e7337d-2863-42f3-b769-6802b5df8027",
   "metadata": {},
   "source": [
    "### Strategy Definition"
   ]
  },
  {
   "cell_type": "code",
   "execution_count": null,
   "id": "ffb5039e-7c58-47fc-82f9-adbde4e95c0e",
   "metadata": {},
   "outputs": [],
   "source": []
  }
 ],
 "metadata": {
  "kernelspec": {
   "display_name": "Python 3 (ipykernel)",
   "language": "python",
   "name": "python3"
  },
  "language_info": {
   "codemirror_mode": {
    "name": "ipython",
    "version": 3
   },
   "file_extension": ".py",
   "mimetype": "text/x-python",
   "name": "python",
   "nbconvert_exporter": "python",
   "pygments_lexer": "ipython3",
   "version": "3.8.3"
  }
 },
 "nbformat": 4,
 "nbformat_minor": 5
}
