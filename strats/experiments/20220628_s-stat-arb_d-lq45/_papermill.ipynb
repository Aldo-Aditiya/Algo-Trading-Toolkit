{
 "cells": [
  {
   "cell_type": "code",
   "execution_count": 1,
   "id": "d5fb48f2-fbfe-40c6-919f-27dc3845b46f",
   "metadata": {},
   "outputs": [],
   "source": [
    "import papermill as pm\n",
    "import logging\n",
    "import mlflow\n",
    "\n",
    "from tqdm import tqdm\n",
    "\n",
    "logging.basicConfig(\n",
    "    format='%(asctime)s %(levelname)s %(message)s',\n",
    "    datefmt='%Y-%m-%d %H:%M:%S'\n",
    ")"
   ]
  },
  {
   "cell_type": "code",
   "execution_count": 2,
   "id": "c57c7ca6-3743-4a47-898e-3547d6570724",
   "metadata": {},
   "outputs": [],
   "source": [
    "experiment_name = \"20220628_s-stat-arb_d-lq45\"\n",
    "\n",
    "mlflow.set_tracking_uri(\"/workspace/mlruns\")\n",
    "try:\n",
    "    _ = mlflow.create_experiment(experiment_name)\n",
    "except:\n",
    "    print(\"Experiment Name already exists\")"
   ]
  },
  {
   "cell_type": "code",
   "execution_count": 3,
   "id": "3e0b87c2-5413-4088-8a41-e47c6ffd56cb",
   "metadata": {},
   "outputs": [
    {
     "name": "stderr",
     "output_type": "stream",
     "text": [
      "2022-07-08 11:47:05 WARNING Running notebook for: ['2010-01-01', '2019-01-01']\n"
     ]
    },
    {
     "data": {
      "application/vnd.jupyter.widget-view+json": {
       "model_id": "a316d457e2c6449499fb5a46f976b063",
       "version_major": 2,
       "version_minor": 0
      },
      "text/plain": [
       "Executing:   0%|          | 0/46 [00:00<?, ?cell/s]"
      ]
     },
     "metadata": {},
     "output_type": "display_data"
    },
    {
     "name": "stderr",
     "output_type": "stream",
     "text": [
      "2022-07-08 11:53:02 WARNING Running notebook for: ['2010-01-01', '2020-01-01']\n"
     ]
    },
    {
     "data": {
      "application/vnd.jupyter.widget-view+json": {
       "model_id": "b52f089152ac478798c1091a06999615",
       "version_major": 2,
       "version_minor": 0
      },
      "text/plain": [
       "Executing:   0%|          | 0/46 [00:00<?, ?cell/s]"
      ]
     },
     "metadata": {},
     "output_type": "display_data"
    },
    {
     "name": "stderr",
     "output_type": "stream",
     "text": [
      "2022-07-08 11:56:44 WARNING Running notebook for: ['2010-01-01', '2021-01-01']\n"
     ]
    },
    {
     "data": {
      "application/vnd.jupyter.widget-view+json": {
       "model_id": "1b3125c13a284288824cb7ae2eff08cd",
       "version_major": 2,
       "version_minor": 0
      },
      "text/plain": [
       "Executing:   0%|          | 0/46 [00:00<?, ?cell/s]"
      ]
     },
     "metadata": {},
     "output_type": "display_data"
    },
    {
     "name": "stderr",
     "output_type": "stream",
     "text": [
      "2022-07-08 12:00:00 WARNING Running notebook for: ['2010-01-01', '2022-01-01']\n"
     ]
    },
    {
     "data": {
      "application/vnd.jupyter.widget-view+json": {
       "model_id": "8f82618d20d04a869ddbc115d9f332e2",
       "version_major": 2,
       "version_minor": 0
      },
      "text/plain": [
       "Executing:   0%|          | 0/46 [00:00<?, ?cell/s]"
      ]
     },
     "metadata": {},
     "output_type": "display_data"
    },
    {
     "name": "stderr",
     "output_type": "stream",
     "text": [
      "2022-07-08 12:03:14 WARNING Running notebook for: ['2017-01-01', '2020-01-01']\n"
     ]
    },
    {
     "data": {
      "application/vnd.jupyter.widget-view+json": {
       "model_id": "64e57422b2fc4102a395ff2aa99792eb",
       "version_major": 2,
       "version_minor": 0
      },
      "text/plain": [
       "Executing:   0%|          | 0/46 [00:00<?, ?cell/s]"
      ]
     },
     "metadata": {},
     "output_type": "display_data"
    },
    {
     "name": "stderr",
     "output_type": "stream",
     "text": [
      "2022-07-08 12:06:40 WARNING Running notebook for: ['2017-01-01', '2021-01-01']\n"
     ]
    },
    {
     "data": {
      "application/vnd.jupyter.widget-view+json": {
       "model_id": "0a1f6f5759c74587b62d0980a3f8cd30",
       "version_major": 2,
       "version_minor": 0
      },
      "text/plain": [
       "Executing:   0%|          | 0/46 [00:00<?, ?cell/s]"
      ]
     },
     "metadata": {},
     "output_type": "display_data"
    },
    {
     "name": "stderr",
     "output_type": "stream",
     "text": [
      "2022-07-08 12:09:17 WARNING Running notebook for: ['2017-01-01', '2022-01-01']\n"
     ]
    },
    {
     "data": {
      "application/vnd.jupyter.widget-view+json": {
       "model_id": "cae8e783b476467590a6f6653e60d92f",
       "version_major": 2,
       "version_minor": 0
      },
      "text/plain": [
       "Executing:   0%|          | 0/46 [00:00<?, ?cell/s]"
      ]
     },
     "metadata": {},
     "output_type": "display_data"
    },
    {
     "name": "stderr",
     "output_type": "stream",
     "text": [
      "2022-07-08 12:11:10 WARNING Running notebook for: ['2019-01-01', '2021-01-01']\n"
     ]
    },
    {
     "data": {
      "application/vnd.jupyter.widget-view+json": {
       "model_id": "5a2f89ba7ccf4e7a83808a3ef09fae6e",
       "version_major": 2,
       "version_minor": 0
      },
      "text/plain": [
       "Executing:   0%|          | 0/46 [00:00<?, ?cell/s]"
      ]
     },
     "metadata": {},
     "output_type": "display_data"
    },
    {
     "name": "stderr",
     "output_type": "stream",
     "text": [
      "2022-07-08 12:14:05 WARNING Running notebook for: ['2019-01-01', '2022-01-01']\n"
     ]
    },
    {
     "data": {
      "application/vnd.jupyter.widget-view+json": {
       "model_id": "bf4a06804e4a4e0591c329e13e71ade2",
       "version_major": 2,
       "version_minor": 0
      },
      "text/plain": [
       "Executing:   0%|          | 0/46 [00:00<?, ?cell/s]"
      ]
     },
     "metadata": {},
     "output_type": "display_data"
    },
    {
     "name": "stderr",
     "output_type": "stream",
     "text": [
      "2022-07-08 12:16:15 WARNING Running notebook for: ['2020-01-01', '2022-01-01']\n"
     ]
    },
    {
     "data": {
      "application/vnd.jupyter.widget-view+json": {
       "model_id": "533c4d25d0884bc7b69e8be55934cd02",
       "version_major": 2,
       "version_minor": 0
      },
      "text/plain": [
       "Executing:   0%|          | 0/46 [00:00<?, ?cell/s]"
      ]
     },
     "metadata": {},
     "output_type": "display_data"
    },
    {
     "name": "stderr",
     "output_type": "stream",
     "text": [
      "2022-07-08 12:19:13 WARNING Running notebook for: ['2021-01-01', '2022-01-01']\n"
     ]
    },
    {
     "data": {
      "application/vnd.jupyter.widget-view+json": {
       "model_id": "9d2b7eeff85c42a293f139f417505842",
       "version_major": 2,
       "version_minor": 0
      },
      "text/plain": [
       "Executing:   0%|          | 0/46 [00:00<?, ?cell/s]"
      ]
     },
     "metadata": {},
     "output_type": "display_data"
    }
   ],
   "source": [
    "dates_start = ['2010-01-01', '2012-01-01', '2017-01-01', '2019-01-01', '2020-01-01', '2021-01-01']\n",
    "dates_breakpoint = ['2019-01-01', '2020-01-01', '2021-01-01', '2022-01-01'] \n",
    "\n",
    "date_pair = [['2010-01-01', '2019-01-01'],\n",
    "             ['2010-01-01', '2020-01-01'],\n",
    "             ['2010-01-01', '2021-01-01'],\n",
    "             ['2010-01-01', '2022-01-01'],\n",
    "             ['2017-01-01', '2020-01-01'],\n",
    "             ['2017-01-01', '2021-01-01'],\n",
    "             ['2017-01-01', '2022-01-01'],\n",
    "             ['2019-01-01', '2021-01-01'],\n",
    "             ['2019-01-01', '2022-01-01'],\n",
    "             ['2020-01-01', '2022-01-01'],\n",
    "             ['2021-01-01', '2022-01-01']]\n",
    "\n",
    "for dp in date_pair:\n",
    "    logging.warning('Running notebook for: {}'.format(dp))\n",
    "    parameters = {\n",
    "                    'date_start': dp[0], \n",
    "                    'date_breakpoint': dp[1],\n",
    "                    'strat_class': \"Mean Reversion\",\n",
    "                    'std': 1,\n",
    "                    'mlflow_experiment_name': experiment_name \n",
    "                 }\n",
    "    \n",
    "    pm.execute_notebook(input_path='original.ipynb',\n",
    "                        parameters=parameters,\n",
    "                        output_path=f's_{dp[0]}_bp_{dp[1]}.ipynb')"
   ]
  },
  {
   "cell_type": "code",
   "execution_count": null,
   "id": "8ffc599d-feeb-45bd-b8ae-7d3960fb8382",
   "metadata": {},
   "outputs": [],
   "source": []
  }
 ],
 "metadata": {
  "kernelspec": {
   "display_name": "Python 3 (ipykernel)",
   "language": "python",
   "name": "python3"
  },
  "language_info": {
   "codemirror_mode": {
    "name": "ipython",
    "version": 3
   },
   "file_extension": ".py",
   "mimetype": "text/x-python",
   "name": "python",
   "nbconvert_exporter": "python",
   "pygments_lexer": "ipython3",
   "version": "3.8.3"
  }
 },
 "nbformat": 4,
 "nbformat_minor": 5
}
