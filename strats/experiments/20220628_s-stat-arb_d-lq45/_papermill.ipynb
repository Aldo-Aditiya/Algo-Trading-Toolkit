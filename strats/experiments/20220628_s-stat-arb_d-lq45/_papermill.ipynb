{
 "cells": [
  {
   "cell_type": "code",
   "execution_count": 8,
   "id": "d5fb48f2-fbfe-40c6-919f-27dc3845b46f",
   "metadata": {},
   "outputs": [],
   "source": [
    "import papermill as pm\n",
    "import logging\n",
    "import mlflow\n",
    "\n",
    "from tqdm import tqdm\n",
    "\n",
    "logging.basicConfig(\n",
    "    format='%(asctime)s %(levelname)s %(message)s',\n",
    "    datefmt='%Y-%m-%d %H:%M:%S'\n",
    ")"
   ]
  },
  {
   "cell_type": "code",
   "execution_count": 9,
   "id": "c57c7ca6-3743-4a47-898e-3547d6570724",
   "metadata": {},
   "outputs": [],
   "source": [
    "experiment_name = \"20220628_s-stat-arb_d-lq45\"\n",
    "\n",
    "mlflow.set_tracking_uri(\"/workspace/mlruns\")\n",
    "_ = mlflow.create_experiment(experiment_name)"
   ]
  },
  {
   "cell_type": "code",
   "execution_count": 10,
   "id": "3e0b87c2-5413-4088-8a41-e47c6ffd56cb",
   "metadata": {},
   "outputs": [
    {
     "name": "stderr",
     "output_type": "stream",
     "text": [
      "2022-07-08 11:24:10 WARNING Running notebook for: ['2021-01-01', '2022-01-01']\n"
     ]
    },
    {
     "data": {
      "application/vnd.jupyter.widget-view+json": {
       "model_id": "ccb7c5d13ae044b7b2e44cefc5c5132d",
       "version_major": 2,
       "version_minor": 0
      },
      "text/plain": [
       "Executing:   0%|          | 0/46 [00:00<?, ?cell/s]"
      ]
     },
     "metadata": {},
     "output_type": "display_data"
    },
    {
     "ename": "PapermillExecutionError",
     "evalue": "\n---------------------------------------------------------------------------\nException encountered at \"In [30]\":\n  Input In [30]\n    run_name =\n               ^\nSyntaxError: invalid syntax\n\n",
     "output_type": "error",
     "traceback": [
      "\u001b[0;31m---------------------------------------------------------------------------\u001b[0m",
      "\u001b[0;31mPapermillExecutionError\u001b[0m                   Traceback (most recent call last)",
      "Input \u001b[0;32mIn [10]\u001b[0m, in \u001b[0;36m<cell line: 18>\u001b[0;34m()\u001b[0m\n\u001b[1;32m     19\u001b[0m logging\u001b[38;5;241m.\u001b[39mwarning(\u001b[38;5;124m'\u001b[39m\u001b[38;5;124mRunning notebook for: \u001b[39m\u001b[38;5;132;01m{}\u001b[39;00m\u001b[38;5;124m'\u001b[39m\u001b[38;5;241m.\u001b[39mformat(dp))\n\u001b[1;32m     20\u001b[0m parameters \u001b[38;5;241m=\u001b[39m {\n\u001b[1;32m     21\u001b[0m                 \u001b[38;5;124m'\u001b[39m\u001b[38;5;124mdate_start\u001b[39m\u001b[38;5;124m'\u001b[39m: dp[\u001b[38;5;241m0\u001b[39m], \n\u001b[1;32m     22\u001b[0m                 \u001b[38;5;124m'\u001b[39m\u001b[38;5;124mdate_breakpoint\u001b[39m\u001b[38;5;124m'\u001b[39m: dp[\u001b[38;5;241m1\u001b[39m],\n\u001b[0;32m   (...)\u001b[0m\n\u001b[1;32m     25\u001b[0m                 \u001b[38;5;124m'\u001b[39m\u001b[38;5;124mmlflow_experiment_name\u001b[39m\u001b[38;5;124m'\u001b[39m: experiment_name \n\u001b[1;32m     26\u001b[0m              }\n\u001b[0;32m---> 28\u001b[0m \u001b[43mpm\u001b[49m\u001b[38;5;241;43m.\u001b[39;49m\u001b[43mexecute_notebook\u001b[49m\u001b[43m(\u001b[49m\u001b[43minput_path\u001b[49m\u001b[38;5;241;43m=\u001b[39;49m\u001b[38;5;124;43m'\u001b[39;49m\u001b[38;5;124;43moriginal.ipynb\u001b[39;49m\u001b[38;5;124;43m'\u001b[39;49m\u001b[43m,\u001b[49m\n\u001b[1;32m     29\u001b[0m \u001b[43m                    \u001b[49m\u001b[43mparameters\u001b[49m\u001b[38;5;241;43m=\u001b[39;49m\u001b[43mparameters\u001b[49m\u001b[43m,\u001b[49m\n\u001b[1;32m     30\u001b[0m \u001b[43m                    \u001b[49m\u001b[43moutput_path\u001b[49m\u001b[38;5;241;43m=\u001b[39;49m\u001b[38;5;124;43mf\u001b[39;49m\u001b[38;5;124;43m'\u001b[39;49m\u001b[38;5;124;43ms_\u001b[39;49m\u001b[38;5;132;43;01m{\u001b[39;49;00m\u001b[43mdp\u001b[49m\u001b[43m[\u001b[49m\u001b[38;5;241;43m0\u001b[39;49m\u001b[43m]\u001b[49m\u001b[38;5;132;43;01m}\u001b[39;49;00m\u001b[38;5;124;43m_bp_\u001b[39;49m\u001b[38;5;132;43;01m{\u001b[39;49;00m\u001b[43mdp\u001b[49m\u001b[43m[\u001b[49m\u001b[38;5;241;43m1\u001b[39;49m\u001b[43m]\u001b[49m\u001b[38;5;132;43;01m}\u001b[39;49;00m\u001b[38;5;124;43m.ipynb\u001b[39;49m\u001b[38;5;124;43m'\u001b[39;49m\u001b[43m)\u001b[49m\n",
      "File \u001b[0;32m/usr/local/lib/python3.8/site-packages/papermill/execute.py:122\u001b[0m, in \u001b[0;36mexecute_notebook\u001b[0;34m(input_path, output_path, parameters, engine_name, request_save_on_cell_execute, prepare_only, kernel_name, language, progress_bar, log_output, stdout_file, stderr_file, start_timeout, report_mode, cwd, **engine_kwargs)\u001b[0m\n\u001b[1;32m    107\u001b[0m         nb \u001b[38;5;241m=\u001b[39m papermill_engines\u001b[38;5;241m.\u001b[39mexecute_notebook_with_engine(\n\u001b[1;32m    108\u001b[0m             engine_name,\n\u001b[1;32m    109\u001b[0m             nb,\n\u001b[0;32m   (...)\u001b[0m\n\u001b[1;32m    118\u001b[0m             \u001b[38;5;241m*\u001b[39m\u001b[38;5;241m*\u001b[39mengine_kwargs\n\u001b[1;32m    119\u001b[0m         )\n\u001b[1;32m    121\u001b[0m     \u001b[38;5;66;03m# Check for errors first (it saves on error before raising)\u001b[39;00m\n\u001b[0;32m--> 122\u001b[0m     \u001b[43mraise_for_execution_errors\u001b[49m\u001b[43m(\u001b[49m\u001b[43mnb\u001b[49m\u001b[43m,\u001b[49m\u001b[43m \u001b[49m\u001b[43moutput_path\u001b[49m\u001b[43m)\u001b[49m\n\u001b[1;32m    124\u001b[0m \u001b[38;5;66;03m# Write final output in case the engine didn't write it on cell completion.\u001b[39;00m\n\u001b[1;32m    125\u001b[0m write_ipynb(nb, output_path)\n",
      "File \u001b[0;32m/usr/local/lib/python3.8/site-packages/papermill/execute.py:234\u001b[0m, in \u001b[0;36mraise_for_execution_errors\u001b[0;34m(nb, output_path)\u001b[0m\n\u001b[1;32m    231\u001b[0m nb\u001b[38;5;241m.\u001b[39mcells\u001b[38;5;241m.\u001b[39minsert(\u001b[38;5;241m0\u001b[39m, error_msg_cell)\n\u001b[1;32m    233\u001b[0m write_ipynb(nb, output_path)\n\u001b[0;32m--> 234\u001b[0m \u001b[38;5;28;01mraise\u001b[39;00m error\n",
      "\u001b[0;31mPapermillExecutionError\u001b[0m: \n---------------------------------------------------------------------------\nException encountered at \"In [30]\":\n  Input In [30]\n    run_name =\n               ^\nSyntaxError: invalid syntax\n\n"
     ]
    }
   ],
   "source": [
    "dates_start = ['2010-01-01', '2012-01-01', '2017-01-01', '2019-01-01', '2020-01-01', '2021-01-01']\n",
    "dates_breakpoint = ['2019-01-01', '2020-01-01', '2021-01-01', '2022-01-01'] \n",
    "\n",
    "date_pair = [['2010-01-01', '2019-01-01'],\n",
    "             ['2010-01-01', '2020-01-01'],\n",
    "             ['2010-01-01', '2021-01-01'],\n",
    "             ['2010-01-01', '2022-01-01'],\n",
    "             ['2017-01-01', '2020-01-01'],\n",
    "             ['2017-01-01', '2021-01-01'],\n",
    "             ['2017-01-01', '2022-01-01'],\n",
    "             ['2019-01-01', '2021-01-01'],\n",
    "             ['2019-01-01', '2022-01-01'],\n",
    "             ['2020-01-01', '2022-01-01'],\n",
    "             ['2021-01-01', '2022-01-01']]\n",
    "\n",
    "date_pair = [['2021-01-01', '2022-01-01']]\n",
    "\n",
    "for dp in date_pair:\n",
    "    logging.warning('Running notebook for: {}'.format(dp))\n",
    "    parameters = {\n",
    "                    'date_start': dp[0], \n",
    "                    'date_breakpoint': dp[1],\n",
    "                    'strat_class': \"Mean Reversion\",\n",
    "                    'std': 1,\n",
    "                    'mlflow_experiment_name': experiment_name \n",
    "                 }\n",
    "    \n",
    "    pm.execute_notebook(input_path='original.ipynb',\n",
    "                        parameters=parameters,\n",
    "                        output_path=f's_{dp[0]}_bp_{dp[1]}.ipynb')"
   ]
  },
  {
   "cell_type": "code",
   "execution_count": null,
   "id": "8ffc599d-feeb-45bd-b8ae-7d3960fb8382",
   "metadata": {},
   "outputs": [],
   "source": []
  }
 ],
 "metadata": {
  "kernelspec": {
   "display_name": "Python 3 (ipykernel)",
   "language": "python",
   "name": "python3"
  },
  "language_info": {
   "codemirror_mode": {
    "name": "ipython",
    "version": 3
   },
   "file_extension": ".py",
   "mimetype": "text/x-python",
   "name": "python",
   "nbconvert_exporter": "python",
   "pygments_lexer": "ipython3",
   "version": "3.8.3"
  }
 },
 "nbformat": 4,
 "nbformat_minor": 5
}
